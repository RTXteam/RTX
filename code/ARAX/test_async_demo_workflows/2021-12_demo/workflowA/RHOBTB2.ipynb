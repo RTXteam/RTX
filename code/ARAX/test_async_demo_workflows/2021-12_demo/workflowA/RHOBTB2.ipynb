{
 "cells": [
  {
   "cell_type": "markdown",
   "id": "binary-jersey",
   "metadata": {},
   "source": [
    "This query is based on patients seen at the Hugh Kaul Precision Medicine Institute.  \n",
    "\n",
    "Two PMI patients with developmental and speech delays, as well as seizures have been identified with missense variants in the [RHOBTB2](https://docs.google.com/presentation/d/1393qJ_Pcsl-hkwrsScqNLycEOuk-7dDkp5ey4UuEBbA/edit#slide=id.gd71774717d_0_6) gene.   [RHOBTB2 Syndrome](https://rarechromo.org/media/singlegeneinfo/Single%20Gene%20Disorder%20Guides/RHOBTB2%20syndrome%20QFN.pdf) has only been known since 2018, and as of 2020, only 13 children with such variations have been identified.\n",
    "\n",
    "The syndrome is thought to be related to gain of function missense mutations in RHOBTB2, so the PMI researchers want to use Translator to find interventions that will reduce the expression or activity of RHOBTB2 with the aim of ameliorating symptoms."
   ]
  },
  {
   "cell_type": "markdown",
   "id": "steady-inclusion",
   "metadata": {},
   "source": [
    "The following functions are used send queries to Translator and display the results"
   ]
  },
  {
   "cell_type": "code",
   "execution_count": 1,
   "id": "neural-greece",
   "metadata": {},
   "outputs": [],
   "source": [
    "#imports\n",
    "import json\n",
    "import requests\n",
    "from collections import defaultdict\n",
    "import pandas as pd\n",
    "import copy\n",
    "from datetime import datetime as dt"
   ]
  },
  {
   "cell_type": "code",
   "execution_count": 2,
   "id": "serious-environment",
   "metadata": {},
   "outputs": [],
   "source": [
    "#ARS functions\n",
    "def submit_to_ars(m,ars_url='https://ars.ci.transltr.io/ars/api',arax_url='https://arax.ncats.io'):\n",
    "    submit_url=f'{ars_url}/submit'\n",
    "    response = requests.post(submit_url,json=m)\n",
    "    try:\n",
    "        message_id = response.json()['pk']\n",
    "    except:\n",
    "        print('fail')\n",
    "        message_id = None\n",
    "    print(f'{arax_url}/?source=ARS&id={message_id}')\n",
    "    return message_id\n",
    "\n",
    "def retrieve_ars_results(mid,ars_url='https://ars.ci.transltr.io/ars/api'):\n",
    "    message_url = f'{ars_url}/messages/{mid}?trace=y'\n",
    "    response = requests.get(message_url)\n",
    "    j = response.json()\n",
    "    print( j['status'] )\n",
    "    results = {}\n",
    "    for child in j['children']:\n",
    "        print(child['status'])\n",
    "        if child['status']  == 'Done':\n",
    "            childmessage_id = child['message']\n",
    "            child_url = f'{ars_url}/messages/{childmessage_id}'\n",
    "            try:\n",
    "                child_response = requests.get(child_url).json()\n",
    "                nresults = len(child_response['fields']['data']['message']['results'])\n",
    "                if nresults > 0:\n",
    "                    results[child['actor']['agent']] = {'message':child_response['fields']['data']['message']}\n",
    "            except Exception as e:\n",
    "                nresults=0\n",
    "                child['status'] = 'ARS Error'\n",
    "        elif child['status'] == 'Error':\n",
    "            nresults=0\n",
    "            childmessage_id = child['message']\n",
    "            child_url = f'{ars_url}/messages/{childmessage_id}'\n",
    "            try:\n",
    "                child_response = requests.get(child_url).json()\n",
    "                results[child['actor']['agent']] = {'message':child_response['fields']['data']['message']}\n",
    "            except Exception as e:\n",
    "                print(e)\n",
    "                child['status'] = 'ARS Error'\n",
    "        else:\n",
    "            nresults = 0\n",
    "        print( child['status'], child['actor']['agent'],nresults )\n",
    "    return results"
   ]
  },
  {
   "cell_type": "code",
   "execution_count": 3,
   "id": "meaning-deviation",
   "metadata": {},
   "outputs": [],
   "source": [
    "#utils\n",
    "def printjson(j):\n",
    "    print(json.dumps(j,indent=4))\n",
    "def print_json(j):\n",
    "    printjson(j)"
   ]
  },
  {
   "cell_type": "markdown",
   "id": "bigger-planet",
   "metadata": {},
   "source": [
    "The story continues..."
   ]
  },
  {
   "cell_type": "markdown",
   "id": "finished-maker",
   "metadata": {},
   "source": [
    "We first want to know if there are any chemicals that can reduce RHOBTB2 activity or amount.   This is a simple query that looks for chemicals with such an effect:"
   ]
  },
  {
   "cell_type": "code",
   "execution_count": 12,
   "id": "homeless-blackjack",
   "metadata": {},
   "outputs": [
    {
     "name": "stdout",
     "output_type": "stream",
     "text": [
      "{\n",
      "    \"message\": {\n",
      "        \"query_graph\": {\n",
      "            \"edges\": {\n",
      "                \"e01\": {\n",
      "                    \"object\": \"n0\",\n",
      "                    \"subject\": \"n1\",\n",
      "                    \"predicates\": [\n",
      "                        \"biolink:entity_negatively_regulates_entity\",\n",
      "                        \"biolink:decreases_abundance_of\",\n",
      "                        \"biolink:decreases_expression_of\",\n",
      "                        \"biolink:decreases_stability_of\",\n",
      "                        \"biolink:decreases_uptake_of\",\n",
      "                        \"biolink:increases_degradation_of\",\n",
      "                        \"biolink:decreases_synthesis_of\",\n",
      "                        \"biolink:decreases_activity_of\",\n",
      "                        \"biolink:affects_response_to\"\n",
      "                    ]\n",
      "                }\n",
      "            },\n",
      "            \"nodes\": {\n",
      "                \"n0\": {\n",
      "                    \"ids\": [\n",
      "                        \"NCBIGene:23221\"\n",
      "                    ],\n",
      "                    \"categories\": [\n",
      "                        \"biolink:Gene\"\n",
      "                    ]\n",
      "                },\n",
      "                \"n1\": {\n",
      "                    \"categories\": [\n",
      "                        \"biolink:SmallMolecule\"\n",
      "                    ]\n",
      "                }\n",
      "            }\n",
      "        }\n",
      "    }\n",
      "}\n"
     ]
    }
   ],
   "source": [
    "with open('A.0_RHOBTB2_direct.json','r') as inf:\n",
    "    query_0 = json.load(inf)\n",
    "printjson(query_0)"
   ]
  },
  {
   "cell_type": "markdown",
   "id": "systematic-morning",
   "metadata": {},
   "source": [
    "The query above links a Gene, specified with an NCBIGene identifier, with an unnamed SmallMolecule.   Furthermore, it asks that relationship(predicate) between these two things is that the SmallMolecule \"decreases\" the Gene.  Here \"decreases\" is defined as one of any number of relationships in our shared data model, the [biolink model](https://github.com/biolink/biolink-model/blob/master/biolink-model.yaml).  We can send this query to Translator and view the results."
   ]
  },
  {
   "cell_type": "code",
   "execution_count": 11,
   "id": "vital-south",
   "metadata": {},
   "outputs": [
    {
     "name": "stdout",
     "output_type": "stream",
     "text": [
      "https://arax.ncats.io/?source=ARS&id=c406b5d1-1649-482b-932a-61279f81cd72\n"
     ]
    }
   ],
   "source": [
    "pk_0 = submit_to_ars(query_0)"
   ]
  },
  {
   "cell_type": "markdown",
   "id": "above-foster",
   "metadata": {},
   "source": [
    "Perhaps we can expand the set of chemicals by allowing an intermediate gene.  This gene X will downregulate RHOBTB2, and be upregulated by our chemical."
   ]
  },
  {
   "cell_type": "code",
   "execution_count": 13,
   "id": "c39137e3",
   "metadata": {},
   "outputs": [
    {
     "name": "stdout",
     "output_type": "stream",
     "text": [
      "{\n",
      "    \"message\": {\n",
      "        \"query_graph\": {\n",
      "            \"edges\": {\n",
      "                \"e01\": {\n",
      "                    \"object\": \"n0\",\n",
      "                    \"subject\": \"n1\",\n",
      "                    \"predicates\": [\n",
      "                        \"biolink:entity_negatively_regulates_entity\"\n",
      "                    ]\n",
      "                },\n",
      "                \"e02\": {\n",
      "                    \"object\": \"n1\",\n",
      "                    \"subject\": \"n2\",\n",
      "                    \"predicates\": [\n",
      "                        \"biolink:increases_abundance_of\",\n",
      "                        \"biolink:increases_expression_of\",\n",
      "                        \"biolink:increases_stability_of\",\n",
      "                        \"biolink:increases_uptake_of\",\n",
      "                        \"biolink:decreases_degradation_of\",\n",
      "                        \"biolink:increases_secretion_of\",\n",
      "                        \"biolink:increases_metabolic_processing_of\",\n",
      "                        \"biolink:increases_folding_of\",\n",
      "                        \"biolink:increases_localization_of\",\n",
      "                        \"biolink:increases_synthesis_of\",\n",
      "                        \"biolink:increases_response_to\",\n",
      "                        \"biolink:increases_splicing_of\",\n",
      "                        \"biolink:increases_mutation_rate_of\",\n",
      "                        \"biolink:increases_transport_of\",\n",
      "                        \"biolink:increases_activity_of\",\n",
      "                        \"biolink:increases_molecular_modification_of\",\n",
      "                        \"biolink:increases_molecular_interaction\"\n",
      "                    ]\n",
      "                }\n",
      "            },\n",
      "            \"nodes\": {\n",
      "                \"n0\": {\n",
      "                    \"ids\": [\n",
      "                        \"NCBIGene:23221\"\n",
      "                    ],\n",
      "                    \"categories\": [\n",
      "                        \"biolink:Gene\"\n",
      "                    ]\n",
      "                },\n",
      "                \"n1\": {\n",
      "                    \"categories\": [\n",
      "                        \"biolink:Gene\"\n",
      "                    ]\n",
      "                },\n",
      "                \"n2\": {\n",
      "                    \"categories\": [\n",
      "                        \"biolink:SmallMolecule\"\n",
      "                    ]\n",
      "                }\n",
      "            }\n",
      "        }\n",
      "    }\n",
      "}\n"
     ]
    }
   ],
   "source": [
    "with open('A.2a_expanded_RHOBTB2_twohop.json','r') as inf:\n",
    "    query_1 = json.load(inf)\n",
    "printjson(query_1)"
   ]
  },
  {
   "cell_type": "code",
   "execution_count": 14,
   "id": "useful-darkness",
   "metadata": {},
   "outputs": [
    {
     "name": "stdout",
     "output_type": "stream",
     "text": [
      "https://arax.ncats.io/?source=ARS&id=77f4c062-5037-47d7-a8df-cc843b65e0eb\n"
     ]
    }
   ],
   "source": [
    "pk_1 = submit_to_ars(query_1)"
   ]
  },
  {
   "cell_type": "markdown",
   "id": "interpreted-traveler",
   "metadata": {},
   "source": [
    "This query provides a specific query, but at times, we may wish to trade specificiy for sensitivity.  If we allow more general relationships between these entities, we lose the directional hypothesis, but expand the set of interesting chemicals while staying within the relevant chemistry."
   ]
  },
  {
   "cell_type": "code",
   "execution_count": 15,
   "id": "caroline-performance",
   "metadata": {},
   "outputs": [
    {
     "name": "stdout",
     "output_type": "stream",
     "text": [
      "{\n",
      "    \"message\": {\n",
      "        \"query_graph\": {\n",
      "            \"edges\": {\n",
      "                \"e01\": {\n",
      "                    \"object\": \"n0\",\n",
      "                    \"subject\": \"n1\",\n",
      "                    \"predicates\": [\n",
      "                        \"biolink:entity_regulates_entity\",\n",
      "                        \"biolink:genetically_interacts_with\"\n",
      "                    ]\n",
      "                },\n",
      "                \"e02\": {\n",
      "                    \"object\": \"n1\",\n",
      "                    \"subject\": \"n2\",\n",
      "                    \"predicates\": [\n",
      "                        \"biolink:related_to\"\n",
      "                    ]\n",
      "                }\n",
      "            },\n",
      "            \"nodes\": {\n",
      "                \"n0\": {\n",
      "                    \"ids\": [\n",
      "                        \"NCBIGene:23221\"\n",
      "                    ],\n",
      "                    \"categories\": [\n",
      "                        \"biolink:Gene\"\n",
      "                    ]\n",
      "                },\n",
      "                \"n1\": {\n",
      "                    \"categories\": [\n",
      "                        \"biolink:Gene\"\n",
      "                    ]\n",
      "                },\n",
      "                \"n2\": {\n",
      "                    \"categories\": [\n",
      "                        \"biolink:SmallMolecule\"\n",
      "                    ]\n",
      "                }\n",
      "            }\n",
      "        }\n",
      "    }\n",
      "}\n"
     ]
    }
   ],
   "source": [
    "with open('A.2_RHOBTB2_twohop.json','r') as inf:\n",
    "    query_2 = json.load(inf)\n",
    "printjson(query_2)"
   ]
  },
  {
   "cell_type": "code",
   "execution_count": 16,
   "id": "sharp-rotation",
   "metadata": {},
   "outputs": [
    {
     "name": "stdout",
     "output_type": "stream",
     "text": [
      "https://arax.ncats.io/?source=ARS&id=41eb4240-7101-4293-a84e-42ede027e6af\n"
     ]
    }
   ],
   "source": [
    "pk_2 = submit_to_ars(query_2)"
   ]
  },
  {
   "cell_type": "markdown",
   "id": "f0244dd7",
   "metadata": {},
   "source": [
    "The difference between query_0_1 and query_0 is the reverse direction between the Gene and SmallMolecule. We found only a few results such as  <font color='blue'>RUXOLITINIB</font>. Evidence from the biothings-multiomics-biggim-drugresponse KP shows cell lines with RHOBTB2 mutations shows significant lower IC50 values compared to cell lines with wildtype RHOBTB2. RUXOLITINIB is JAK inhibitors. JAK-STAT3 signaling has been reported to cross-talk with Rho GTPase signaling in the context of cancer [PMC4125382]. The underline mechanism of the higher sensitivity of JAK inhibitor RUXOLITINIB in the RHOBTB2 mutated samples is still not clear. More knowledge graphs or multiple hop queries will be needed. </br> Edit by Guangrong Qin "
   ]
  }
 ],
 "metadata": {
  "kernelspec": {
   "display_name": "Python 3",
   "language": "python",
   "name": "python3"
  },
  "language_info": {
   "codemirror_mode": {
    "name": "ipython",
    "version": 3
   },
   "file_extension": ".py",
   "mimetype": "text/x-python",
   "name": "python",
   "nbconvert_exporter": "python",
   "pygments_lexer": "ipython3",
   "version": "3.9.1"
  }
 },
 "nbformat": 4,
 "nbformat_minor": 5
}
