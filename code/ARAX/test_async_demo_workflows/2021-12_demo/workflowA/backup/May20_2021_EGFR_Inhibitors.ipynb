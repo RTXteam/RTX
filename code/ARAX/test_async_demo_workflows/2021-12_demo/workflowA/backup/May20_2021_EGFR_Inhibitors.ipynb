{
 "cells": [
  {
   "cell_type": "code",
   "execution_count": 71,
   "id": "latter-glenn",
   "metadata": {},
   "outputs": [],
   "source": [
    "import json\n",
    "import requests"
   ]
  },
  {
   "cell_type": "code",
   "execution_count": 72,
   "id": "fourth-tomorrow",
   "metadata": {},
   "outputs": [],
   "source": [
    "#https://pypi.org/project/gamma-viewer/\n",
    "from gamma_viewer import GammaViewer\n",
    "from IPython.display import display"
   ]
  },
  {
   "cell_type": "code",
   "execution_count": 73,
   "id": "loose-timber",
   "metadata": {},
   "outputs": [],
   "source": [
    "def submit_to_ars(m,ars_url='https://ars.transltr.io/ars/api',arax_url='https://arax.ncats.io/legacy'):\n",
    "    submit_url=f'{ars_url}/submit'\n",
    "    response = requests.post(submit_url,json=m)\n",
    "    try:\n",
    "        message_id = response.json()['pk']\n",
    "    except:\n",
    "        print('fail')\n",
    "        message_id = None\n",
    "    print(f'{arax_url}/?source=ARS&id={message_id}')\n",
    "    return message_id\n",
    "\n",
    "def retrieve_ars_results(mid,ars_url='https://ars.transltr.io/ars/api'):\n",
    "    message_url = f'{ars_url}/messages/{mid}?trace=y'\n",
    "    response = requests.get(message_url)\n",
    "    j = response.json()\n",
    "    print( j['status'] )\n",
    "    results = {}\n",
    "    for child in j['children']:\n",
    "        print(child['status'])\n",
    "        if child['status']  == 'Done':\n",
    "            childmessage_id = child['message']\n",
    "            child_url = f'{ars_url}/messages/{childmessage_id}'\n",
    "            try:\n",
    "                child_response = requests.get(child_url).json()\n",
    "                nresults = len(child_response['fields']['data']['message']['results'])\n",
    "                if nresults > 0:\n",
    "                    results[child['actor']['agent']] = {'message':child_response['fields']['data']['message']}\n",
    "            except Exception as e:\n",
    "                nresults=0\n",
    "                child['status'] = 'ARS Error'\n",
    "        elif child['status'] == 'Error':\n",
    "            nresults=0\n",
    "            childmessage_id = child['message']\n",
    "            child_url = f'{ars_url}/messages/{childmessage_id}'\n",
    "            try:\n",
    "                child_response = requests.get(child_url).json()\n",
    "                results[child['actor']['agent']] = {'message':child_response['fields']['data']['message']}\n",
    "            except Exception as e:\n",
    "                print(e)\n",
    "                child['status'] = 'ARS Error'\n",
    "        else:\n",
    "            nresults = 0\n",
    "        print( child['status'], child['actor']['agent'],nresults )\n",
    "    return results"
   ]
  },
  {
   "cell_type": "code",
   "execution_count": 74,
   "id": "honest-conducting",
   "metadata": {},
   "outputs": [],
   "source": [
    "def submit_to_devars(m):\n",
    "    return submit_to_ars(m,ars_url='https://ars-dev.transltr.io/ars/api',arax_url='https://arax.ncats.io')\n",
    "\n",
    "def retrieve_devars_results(m):\n",
    "    return retrieve_ars_results(m,ars_url='https://ars-dev.transltr.io/ars/api')"
   ]
  },
  {
   "cell_type": "code",
   "execution_count": 75,
   "id": "future-technique",
   "metadata": {},
   "outputs": [],
   "source": [
    "def printjson(j):\n",
    "    print(json.dumps(j,indent=4))\n",
    "\n",
    "def print_json(j):\n",
    "    printjson(j)"
   ]
  },
  {
   "cell_type": "code",
   "execution_count": 76,
   "id": "minimal-device",
   "metadata": {},
   "outputs": [],
   "source": [
    "def name_lookup(text):\n",
    "    url= f'https://name-resolution-sri.renci.org/lookup?string={text}&offset=0&limit=10'\n",
    "    response = requests.post(url)\n",
    "    printjson(response.json())"
   ]
  },
  {
   "cell_type": "code",
   "execution_count": 77,
   "id": "least-investment",
   "metadata": {},
   "outputs": [],
   "source": [
    "def one_hop_message(subject_category,object_category,predicate=None,subject_id = None, object_id = None):\n",
    "    query_graph = {\n",
    "    \"nodes\": {\n",
    "        'a':{\n",
    "            \"category\": subject_category\n",
    "        },\n",
    "        'b':{\n",
    "            \"category\": object_category\n",
    "        }\n",
    "    },\n",
    "    \"edges\": {\n",
    "        'ab':{\n",
    "            \"subject\": \"a\",\n",
    "            \"object\": \"b\",\n",
    "            #\"predicate\": predicate\n",
    "        }\n",
    "    }\n",
    "    }\n",
    "    if predicate is not None:\n",
    "        query_graph['edges']['ab']['predicate'] = predicate\n",
    "    if subject_id is not None:\n",
    "        query_graph['nodes']['a']['id'] = subject_id\n",
    "    if object_id is not None:\n",
    "        query_graph['nodes']['b']['id'] = object_id\n",
    "    message = {\"message\": {\"query_graph\": query_graph},'knowledge_graph':{\"nodes\": [], \"edges\": [],}, 'results':[]}\n",
    "    return message"
   ]
  },
  {
   "cell_type": "markdown",
   "id": "standard-recovery",
   "metadata": {},
   "source": [
    "# EGFR inhibitors"
   ]
  },
  {
   "cell_type": "markdown",
   "id": "shaped-choir",
   "metadata": {},
   "source": [
    "Main query:"
   ]
  },
  {
   "cell_type": "markdown",
   "id": "bronze-violence",
   "metadata": {},
   "source": [
    "\n",
    "\n",
    "qg = {\n",
    "  \"nodes\": {\n",
    "    \"n0\": {\n",
    "      \"categories\": [\n",
    "        \"biolink:ChemicalSubstance\"\n",
    "      ],\n",
    "      \"name\": \"Chemical Substance\"\n",
    "    },\n",
    "    \"n1\": {\n",
    "      \"name\": \"EGFR\",\n",
    "      \"ids\": [\"NCBIGene:1956\"]\n",
    "    }\n",
    "  },\n",
    "  \"edges\": {\n",
    "    \"e0\": {\n",
    "      \"subject\": \"n0\",\n",
    "      \"object\": \"n1\",\n",
    "      \"predicates\": [\n",
    "        \"biolink:decreases_abundance_of\",\n",
    "        \"biolink:decreases_activity_of\",\n",
    "        \"biolink:decreases_expression_of\",\n",
    "        \"biolink:decreases_synthesis_of\",\n",
    "        \"biolink:increases_degradation_of\",\n",
    "        \"biolink:disrupts\",\n",
    "        \"biolink:negatively_regulates_entity_to_entity\",\n",
    "        \"biolink:entity_negatively_regulates_entity\"\n",
    "      ]\n",
    "    }\n",
    "  }\n",
    "}\n",
    "\n",
    "EGFR_query = {'message':{'query_graph':qg}}"
   ]
  },
  {
   "cell_type": "code",
   "execution_count": 85,
   "id": "wired-filename",
   "metadata": {},
   "outputs": [
    {
     "name": "stdout",
     "output_type": "stream",
     "text": [
      "https://arax.ncats.io/?source=ARS&id=73dde92f-59bd-4e84-bc32-750c1b79b33c\n"
     ]
    }
   ],
   "source": [
    "EGFR_result_id = submit_to_devars(EGFR_query)"
   ]
  },
  {
   "cell_type": "markdown",
   "id": "earlier-neutral",
   "metadata": {},
   "source": [
    "Probably the best query long term, as it removes a non-biolink predicate:"
   ]
  },
  {
   "cell_type": "code",
   "execution_count": 86,
   "id": "tested-tracker",
   "metadata": {},
   "outputs": [],
   "source": [
    "qg = {\n",
    "  \"nodes\": {\n",
    "    \"n0\": {\n",
    "      \"categories\": [\n",
    "        \"biolink:ChemicalSubstance\"\n",
    "      ],\n",
    "      \"name\": \"Chemical Substance\"\n",
    "    },\n",
    "    \"n1\": {\n",
    "      \"name\": \"EGFR\",\n",
    "      \"ids\": [\"NCBIGene:1956\"]\n",
    "    }\n",
    "  },\n",
    "  \"edges\": {\n",
    "    \"e0\": {\n",
    "      \"subject\": \"n0\",\n",
    "      \"object\": \"n1\",\n",
    "      \"predicates\": [\n",
    "        \"biolink:decreases_abundance_of\",\n",
    "        \"biolink:decreases_activity_of\",\n",
    "        \"biolink:decreases_expression_of\",\n",
    "        \"biolink:decreases_synthesis_of\",\n",
    "        \"biolink:increases_degradation_of\",\n",
    "        \"biolink:disrupts\",\n",
    "        \"biolink:negatively_regulates_entity_to_entity\"\n",
    "      ]\n",
    "    }\n",
    "  }\n",
    "}\n",
    "\n",
    "EGFR_query2 = {'message':{'query_graph':qg}}"
   ]
  },
  {
   "cell_type": "code",
   "execution_count": 87,
   "id": "domestic-archive",
   "metadata": {},
   "outputs": [
    {
     "name": "stdout",
     "output_type": "stream",
     "text": [
      "https://arax.ncats.io/?source=ARS&id=d3205805-3251-4cc4-a420-646577b48066\n"
     ]
    }
   ],
   "source": [
    "EGFR_result_id2 = submit_to_devars(EGFR_query2)"
   ]
  },
  {
   "cell_type": "markdown",
   "id": "stuck-advocate",
   "metadata": {},
   "source": [
    "Inverting edge and scaling up predicate to target molepro:"
   ]
  },
  {
   "cell_type": "code",
   "execution_count": null,
   "id": "alien-emperor",
   "metadata": {},
   "outputs": [],
   "source": [
    "\n",
    "qg = {\n",
    "  \"nodes\": {\n",
    "    \"n0\": {\n",
    "      \"categories\": [\n",
    "        \"biolink:ChemicalSubstance\"\n",
    "      ],\n",
    "      \"name\": \"Chemical Substance\"\n",
    "    },\n",
    "    \"n1\": {\n",
    "      \"name\": \"EGFR\",\n",
    "      \"ids\": [\"NCBIGene:1956\"]\n",
    "    }\n",
    "  },\n",
    "  \"edges\": {\n",
    "    \"e0\": {\n",
    "      \"subject\": \"n1\",\n",
    "      \"object\": \"n0\",\n",
    "      \"predicates\": [\n",
    "        \"biolink:related_to\"\n",
    "      ]\n",
    "    }\n",
    "  }\n",
    "}\n",
    "\n",
    "EGFR_query3 = {'message':{'query_graph':qg}}"
   ]
  },
  {
   "cell_type": "code",
   "execution_count": 92,
   "id": "certified-reservoir",
   "metadata": {},
   "outputs": [
    {
     "name": "stdout",
     "output_type": "stream",
     "text": [
      "https://arax.ncats.io/?source=ARS&id=45105d5f-4b45-4b56-8c8a-d91494bc5f23\n"
     ]
    }
   ],
   "source": [
    "EGFR_result_id3 = submit_to_devars(EGFR_query3)"
   ]
  },
  {
   "cell_type": "markdown",
   "id": "adjacent-president",
   "metadata": {},
   "source": [
    "Using a Protein identifier rather than a gene identifier:"
   ]
  },
  {
   "cell_type": "code",
   "execution_count": 95,
   "id": "accomplished-trunk",
   "metadata": {},
   "outputs": [],
   "source": [
    "qg = {\n",
    "  \"nodes\": {\n",
    "    \"n0\": {\n",
    "      \"categories\": [\n",
    "        \"biolink:ChemicalSubstance\"\n",
    "      ],\n",
    "      \"name\": \"Chemical Substance\"\n",
    "    },\n",
    "    \"n1\": {\n",
    "      \"name\": \"EGFR\",\n",
    "      \"ids\": [\"PR:000006933\"]\n",
    "    }\n",
    "  },\n",
    "  \"edges\": {\n",
    "    \"e0\": {\n",
    "      \"subject\": \"n0\",\n",
    "      \"object\": \"n1\",\n",
    "      \"predicates\": [\n",
    "        \"biolink:negatively_regulates_entity_to_entity\",\n",
    "        \"biolink:entity_negatively_regulates_entity\"\n",
    "      ]\n",
    "    }\n",
    "  }\n",
    "}\n",
    "\n",
    "EGFR_query_4 = {'message':{'query_graph':qg}}"
   ]
  },
  {
   "cell_type": "code",
   "execution_count": 96,
   "id": "polish-iceland",
   "metadata": {},
   "outputs": [
    {
     "name": "stdout",
     "output_type": "stream",
     "text": [
      "https://arax.ncats.io/?source=ARS&id=a548038a-a9e6-40f2-94ee-d6ba61a8d3b8\n"
     ]
    }
   ],
   "source": [
    "EGFR_result_id4 = submit_to_devars(EGFR_query_4)"
   ]
  },
  {
   "cell_type": "code",
   "execution_count": 100,
   "id": "indie-jones",
   "metadata": {},
   "outputs": [],
   "source": [
    "\n",
    "qg = {\n",
    "\"nodes\": {\n",
    "\"n0\": {\n",
    "\"categories\": [\n",
    "\"biolink:ChemicalSubstance\"\n",
    "],\n",
    "\"name\": \"Chemical Substance\"\n",
    "},\n",
    "\"n1\": {\n",
    "\"name\": \"EGFR\",\n",
    "\"ids\": [\"NCBIGene:1956\"]\n",
    "}\n",
    "},\n",
    "\"edges\": {\n",
    "\"e0\": {\n",
    "\"subject\": \"n0\",\n",
    "\"object\": \"n1\",\n",
    "\"predicates\": [\n",
    "\"biolink:decreases_abundance_of\",\n",
    "\"biolink:decreases_activity_of\",\n",
    "\"biolink:decreases_expression_of\",\n",
    "\"biolink:decreases_synthesis_of\",\n",
    "\"biolink:increases_degradation_of\",\n",
    "\"biolink:disrupts\",\n",
    "\"biolink:negatively_regulates_entity_to_entity\"\n",
    "]\n",
    "}\n",
    "}\n",
    "}\n",
    "EGFR_query_redo = {'message':{'query_graph':qg}}"
   ]
  },
  {
   "cell_type": "code",
   "execution_count": 101,
   "id": "selective-slave",
   "metadata": {},
   "outputs": [
    {
     "name": "stdout",
     "output_type": "stream",
     "text": [
      "https://arax.ncats.io/?source=ARS&id=36d9f32c-0427-463b-884c-c6de61752d92\n"
     ]
    }
   ],
   "source": [
    "EGFR_result_redo = submit_to_devars(EGFR_query_redo)"
   ]
  },
  {
   "cell_type": "code",
   "execution_count": null,
   "id": "authentic-prize",
   "metadata": {},
   "outputs": [],
   "source": []
  }
 ],
 "metadata": {
  "kernelspec": {
   "display_name": "Python 3",
   "language": "python",
   "name": "python3"
  },
  "language_info": {
   "codemirror_mode": {
    "name": "ipython",
    "version": 3
   },
   "file_extension": ".py",
   "mimetype": "text/x-python",
   "name": "python",
   "nbconvert_exporter": "python",
   "pygments_lexer": "ipython3",
   "version": "3.9.1"
  }
 },
 "nbformat": 4,
 "nbformat_minor": 5
}
