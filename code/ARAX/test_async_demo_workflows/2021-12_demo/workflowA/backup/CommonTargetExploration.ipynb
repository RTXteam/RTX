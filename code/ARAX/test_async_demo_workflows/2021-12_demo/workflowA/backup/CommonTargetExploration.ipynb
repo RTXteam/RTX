{
 "cells": [
  {
   "cell_type": "code",
   "execution_count": 5,
   "id": "latter-glenn",
   "metadata": {},
   "outputs": [],
   "source": [
    "import json\n",
    "import requests\n",
    "import urllib\n",
    "import copy"
   ]
  },
  {
   "cell_type": "code",
   "execution_count": 6,
   "id": "fourth-tomorrow",
   "metadata": {},
   "outputs": [],
   "source": [
    "#https://pypi.org/project/gamma-viewer/\n",
    "from gamma_viewer import GammaViewer\n",
    "from IPython.display import display"
   ]
  },
  {
   "cell_type": "code",
   "execution_count": 7,
   "id": "loose-timber",
   "metadata": {},
   "outputs": [],
   "source": [
    "def submit_to_ars(m,ars_url='https://ars.transltr.io/ars/api',arax_url='https://arax.ncats.io/legacy'):\n",
    "    submit_url=f'{ars_url}/submit'\n",
    "    response = requests.post(submit_url,json=m)\n",
    "    try:\n",
    "        message_id = response.json()['pk']\n",
    "    except:\n",
    "        print('fail')\n",
    "        message_id = None\n",
    "    print(f'{arax_url}/?source=ARS&id={message_id}')\n",
    "    return message_id\n",
    "\n",
    "def retrieve_ars_results(mid,ars_url='https://ars.transltr.io/ars/api'):\n",
    "    message_url = f'{ars_url}/messages/{mid}?trace=y'\n",
    "    response = requests.get(message_url)\n",
    "    j = response.json()\n",
    "    #print( j['status'] )\n",
    "    results = {}\n",
    "    for child in j['children']:\n",
    "        #print(child['status'])\n",
    "        if child['status']  == 'Done':\n",
    "            childmessage_id = child['message']\n",
    "            child_url = f'{ars_url}/messages/{childmessage_id}'\n",
    "            try:\n",
    "                child_response = requests.get(child_url).json()\n",
    "                nresults = len(child_response['fields']['data']['message']['results'])\n",
    "                if nresults > 0:\n",
    "                    results[child['actor']['agent']] = {'message':child_response['fields']['data']['message']}\n",
    "            except Exception as e:\n",
    "                nresults=0\n",
    "                child['status'] = 'ARS Error'\n",
    "        elif child['status'] == 'Error':\n",
    "            nresults=0\n",
    "            childmessage_id = child['message']\n",
    "            child_url = f'{ars_url}/messages/{childmessage_id}'\n",
    "            try:\n",
    "                child_response = requests.get(child_url).json()\n",
    "                results[child['actor']['agent']] = {'message':child_response['fields']['data']['message']}\n",
    "            except Exception as e:\n",
    "                print(e)\n",
    "                child['status'] = 'ARS Error'\n",
    "        else:\n",
    "            nresults = 0\n",
    "        #print( child['status'], child['actor']['agent'],nresults )\n",
    "    return results"
   ]
  },
  {
   "cell_type": "code",
   "execution_count": 8,
   "id": "honest-conducting",
   "metadata": {},
   "outputs": [],
   "source": [
    "def submit_to_devars(m):\n",
    "    return submit_to_ars(m,ars_url='https://ars-dev.transltr.io/ars/api',arax_url='https://arax.ncats.io')\n",
    "\n",
    "def retrieve_devars_results(m):\n",
    "    return retrieve_ars_results(m,ars_url='https://ars-dev.transltr.io/ars/api')\n",
    "\n",
    "def submit_to_ciars(m):\n",
    "    return submit_to_ars(m,ars_url='https://ars.ci.transltr.io/ars/api',arax_url='https://arax.ncats.io')\n",
    "\n",
    "def retrieve_ciars_results(m):\n",
    "    return retrieve_ars_results(m,ars_url='https://ars.ci.transltr.io/ars/api')\n"
   ]
  },
  {
   "cell_type": "code",
   "execution_count": 9,
   "id": "future-technique",
   "metadata": {},
   "outputs": [],
   "source": [
    "def printjson(j):\n",
    "    print(json.dumps(j,indent=4))\n",
    "\n",
    "def print_json(j):\n",
    "    printjson(j)"
   ]
  },
  {
   "cell_type": "code",
   "execution_count": 10,
   "id": "635226b1",
   "metadata": {},
   "outputs": [],
   "source": [
    "def parse(json):\n",
    "    keylist = list(json.keys())\n",
    "    for key in keylist:\n",
    "        if key in KEYS:\n",
    "            if (isinstance(json[KEYS.get(key)],dict)):\n",
    "                parse(json[key])\n",
    "        elif (isinstance(json[key],dict)):\n",
    "            parse(json[key])"
   ]
  },
  {
   "cell_type": "code",
   "execution_count": 11,
   "id": "minimal-device",
   "metadata": {},
   "outputs": [],
   "source": [
    "def name_lookup(text):\n",
    "    url= f'https://name-resolution-sri.renci.org/lookup?string={text}&offset=0&limit=10'\n",
    "    response = requests.post(url)\n",
    "    printjson(response.json())"
   ]
  },
  {
   "cell_type": "code",
   "execution_count": 12,
   "id": "least-investment",
   "metadata": {},
   "outputs": [],
   "source": [
    "def one_hop_message(subject_category,object_category,predicate=None,subject_id = None, object_id = None):\n",
    "    query_graph = {\n",
    "    \"nodes\": {\n",
    "        'a':{\n",
    "            \"category\": subject_category\n",
    "        },\n",
    "        'b':{\n",
    "            \"category\": object_category\n",
    "        }\n",
    "    },\n",
    "    \"edges\": {\n",
    "        'ab':{\n",
    "            \"subject\": \"a\",\n",
    "            \"object\": \"b\",\n",
    "            #\"predicate\": predicate\n",
    "        }\n",
    "    }\n",
    "    }\n",
    "    if predicate is not None:\n",
    "        query_graph['edges']['ab']['predicate'] = predicate\n",
    "    if subject_id is not None:\n",
    "        query_graph['nodes']['a']['id'] = subject_id\n",
    "    if object_id is not None:\n",
    "        query_graph['nodes']['b']['id'] = object_id\n",
    "    message = {\"message\": {\"query_graph\": query_graph},'knowledge_graph':{\"nodes\": [], \"edges\": [],}, 'results':[]}\n",
    "    return message"
   ]
  },
  {
   "cell_type": "code",
   "execution_count": 13,
   "id": "81bf7200",
   "metadata": {},
   "outputs": [],
   "source": [
    "def keys_exist(element, *keys):\n",
    "    if not isinstance(element, dict):\n",
    "        raise AttributeError('keys_exists() expects dict as first argument.')\n",
    "    if len(keys) == 0:\n",
    "        raise AttributeError('keys_exists() expects at least two arguments, one given.')\n",
    "\n",
    "    _element = element\n",
    "    for key in keys:\n",
    "        try:\n",
    "            _element = _element[key]\n",
    "            if _element is None:\n",
    "                return False\n",
    "        except KeyError:\n",
    "            return False\n",
    "    return True\n",
    "\n",
    "def get_safe(element,*keys):\n",
    "    '''\n",
    "    :param element: JSON to be processed\n",
    "    :param keys: list of keys in order to be traversed. e.g. \"fields\",\"data\",\"message\",\"results\n",
    "    :return: the value of the terminal key if present or None if not\n",
    "    '''\n",
    "    if element is None:\n",
    "        return None\n",
    "    _element = element\n",
    "    for key in keys:\n",
    "        try:\n",
    "            _element = _element[key]\n",
    "            if _element is None:\n",
    "                return None\n",
    "            if key == keys[-1]:\n",
    "                return _element\n",
    "        except KeyError:\n",
    "            return None\n",
    "    return None"
   ]
  },
  {
   "cell_type": "code",
   "execution_count": 14,
   "id": "2fbfd54d",
   "metadata": {},
   "outputs": [],
   "source": [
    "'''\n",
    "This pulls approved drugs by pulling the MAX_FDA_APPROVAL_PHASE string from the description of the node\n",
    "This is by no means a complete solution and I should touch base with Vlado about the implementation of \n",
    "FDA approval data from MolePro for a more complete solution.\n",
    "'''\n",
    "\n",
    "def get_approved(results):\n",
    "    approved = []\n",
    "    for r in results:\n",
    "        nodes = get_safe(result[r],\"message\",\"knowledge_graph\",\"nodes\")\n",
    "        if nodes is not None:\n",
    "            for node in nodes:\n",
    "                attributes = get_safe(nodes[node],\"attributes\")\n",
    "                if attributes is not None:\n",
    "                    for attribute in attributes:\n",
    "                        if(\"original_attribute_name\" in attribute):\n",
    "                            if(attribute[\"original_attribute_name\"]==\"description\"):\n",
    "                                if(\"MAX_FDA_APPROVAL_PHASE: 4\" in attribute[\"value\"]):\n",
    "                                    approved.append(node)\n",
    "    return approved"
   ]
  },
  {
   "cell_type": "code",
   "execution_count": 15,
   "id": "fb668d6d",
   "metadata": {},
   "outputs": [],
   "source": [
    "def synonymize(ids, url=\"https://nodenormalization-sri.renci.org/1.1/get_normalized_nodes\"):\n",
    "        if( isinstance(ids,str) ):\n",
    "            ids = [ids]\n",
    "        params = {\"curie\":ids}\n",
    "        url_curies = urllib.parse.urlencode(params, True)\n",
    "        syn_url=url+\"?\"+url_curies\n",
    "        syn_response=requests.get(syn_url)\n",
    "        synonyms= syn_response.json()\n",
    "        return synonyms\n",
    "        \n",
    "                    "
   ]
  },
  {
   "cell_type": "code",
   "execution_count": 16,
   "id": "630dfb0b",
   "metadata": {},
   "outputs": [],
   "source": [
    "def create_synonym_table(messages):\n",
    "    synonyms={}\n",
    "    for message in messages.values():\n",
    "        nodes = get_safe(message,\"message\",\"knowledge_graph\",\"nodes\")\n",
    "        if nodes is not None:\n",
    "            sym = synonymize(nodes)\n",
    "            if(len(synonyms)==0):\n",
    "                synonyms= sym\n",
    "            else:\n",
    "                absent = []\n",
    "                for node in nodes:\n",
    "                    if(node in synonyms.items()):\n",
    "                        continue\n",
    "                    else:\n",
    "                        absent.append(node)\n",
    "                absent_syms = synonymize(absent)\n",
    "                synonyms.update(absent_syms)\n",
    "    return synonyms\n",
    "                \n"
   ]
  },
  {
   "cell_type": "code",
   "execution_count": 17,
   "id": "42b993e1",
   "metadata": {},
   "outputs": [],
   "source": [
    "def create_synonym_tables(messages):\n",
    "    synonyms={}\n",
    "    for entry in messages:\n",
    "        actor = entry\n",
    "        message = messages[actor]\n",
    "        nodes = get_safe(message,\"message\",\"knowledge_graph\",\"nodes\")\n",
    "        if nodes is not None:\n",
    "            sym = synonymize(nodes)\n",
    "            synonyms[actor]=sym\n",
    "    return synonyms\n",
    "                "
   ]
  },
  {
   "cell_type": "code",
   "execution_count": 18,
   "id": "2a64bc1e",
   "metadata": {},
   "outputs": [],
   "source": [
    "def canonical_id_lists(synonym_tables):\n",
    "    pks ={}\n",
    "    for entry in synonym_tables:\n",
    "        pks[entry]=[]\n",
    "        for k,v in synonym_tables[entry].items():\n",
    "            if v is None:\n",
    "                pks[entry].append(k)\n",
    "            else:\n",
    "                canonical_id=v[\"id\"][\"identifier\"]\n",
    "                if (canonical_id not in pks[entry]):\n",
    "                    pks[entry].append(canonical_id)\n",
    "    return pks"
   ]
  },
  {
   "cell_type": "code",
   "execution_count": 19,
   "id": "c3a3e46c",
   "metadata": {},
   "outputs": [],
   "source": [
    "def get_consensus_nodes(canonical_id_lists):\n",
    "    consensus={}\n",
    "    canon = copy.deepcopy(canonical_id_lists)\n",
    "    my_keys= canon.keys()\n",
    "    my_values=canon.values()\n",
    "    for actor, id_list in canonical_id_lists.items():\n",
    "        for actor2, id_list2 in canon.items():\n",
    "            #Surely, there is a better way to do this with slices or something\n",
    "            if(actor==actor2):\n",
    "                continue\n",
    "            else:\n",
    "                s1 = set(id_list)\n",
    "                s2 = set(id_list2)\n",
    "                inter = (s1 & s2)\n",
    "                if (inter):\n",
    "                    for node in inter:\n",
    "                        if node in consensus.keys():\n",
    "                            consensus[node].add(actor)\n",
    "                            consensus[node].add(actor2)\n",
    "                        else:\n",
    "                            consensus[node]={actor,actor2}      \n",
    "        canon.pop(actor,None)\n",
    "    return consensus\n",
    "        "
   ]
  },
  {
   "cell_type": "code",
   "execution_count": 20,
   "id": "701810f8",
   "metadata": {},
   "outputs": [],
   "source": [
    "def create_query(disease_id,node_id):\n",
    "    query={\n",
    "        \"message\": {\n",
    "            \"query_graph\": {\n",
    "                \"nodes\": {\n",
    "                    \"n0\": {\n",
    "                        \"ids\": [\n",
    "                            disease_id\n",
    "                        ],\n",
    "                        \"categories\": [\n",
    "                            \"biolink:Disease\"\n",
    "                        ]\n",
    "                    },\n",
    "                    \"n1\": {\n",
    "                         \"categories\":[\n",
    "                             \"biolink:Gene\"\n",
    "                            ]\n",
    "                    },\n",
    "                    \"n2\": {\n",
    "                        \"ids\":[node_id],\n",
    "                        \"categories\":[\n",
    "                            \"biolink:ChemicalSubstance\"\n",
    "                           ]\n",
    "                   }\n",
    "                },\n",
    "                \"edges\": {\n",
    "                    \"e0\": {\n",
    "                        \"subject\": \"n0\",\n",
    "                        \"object\": \"n1\"\n",
    "\n",
    "                    },\n",
    "                    \"e1\": {\n",
    "                        \"subject\": \"n1\",\n",
    "                        \"object\": \"n2\"\n",
    "\n",
    "                    }\n",
    "                }\n",
    "            }\n",
    "        }\n",
    "    }\n",
    "    return query\n",
    "    "
   ]
  },
  {
   "cell_type": "code",
   "execution_count": 21,
   "id": "7b554c75",
   "metadata": {},
   "outputs": [],
   "source": [
    "def execute_batch(disease,drug_list):\n",
    "    result_list=[]\n",
    "    for drug in drug_list:\n",
    "        query = create_query(disease,drug)\n",
    "        result = submit_to_ciars(query)\n",
    "        result_list.append(result)\n",
    "    return result_list"
   ]
  },
  {
   "cell_type": "code",
   "execution_count": 29,
   "id": "aa0a1a52",
   "metadata": {},
   "outputs": [],
   "source": [
    "def batch_consensus(result_list):\n",
    "    node_list=[]\n",
    "    synonyms={}\n",
    "    chem=\"\"\n",
    "    for result in result_list:\n",
    "        fetched_result=retrieve_ciars_results(result)\n",
    "        for entry in fetched_result:\n",
    "            actor = entry\n",
    "            message = fetched_result[actor]\n",
    "            nodes = get_safe(message,\"message\",\"knowledge_graph\",\"nodes\")\n",
    "            #this chem get is hardcoded af.  Fix when possible\n",
    "            chem = get_safe(message,\"message\",\"query_graph\",\"nodes\",\"n2\",\"ids\")[0]\n",
    "            if nodes is not None:\n",
    "                node_list.extend(nodes)\n",
    "        sym=synonymize(node_list)\n",
    "        synonyms[chem]=sym\n",
    "        node_list=[]    \n",
    "    canon = canonical_id_lists(synonyms)\n",
    "    con=get_consensus_nodes(canon)\n",
    "    return con"
   ]
  },
  {
   "cell_type": "code",
   "execution_count": 33,
   "id": "14dcaedd",
   "metadata": {},
   "outputs": [],
   "source": [
    "def get_name_from_id(curies,url=\"https://nodenormalization-sri.renci.org/1.1/get_normalized_nodes\"):\n",
    "        if( isinstance(curies,str) ):\n",
    "            curies = [curies]\n",
    "        params = {\"curie\":curies}\n",
    "        url_curies = urllib.parse.urlencode(params, True)\n",
    "        syn_url=url+\"?\"+url_curies\n",
    "        syn_response=requests.get(syn_url)\n",
    "        synonyms= syn_response.json()\n",
    "        names={}\n",
    "        for curie in curies:\n",
    "            name = get_safe(synonyms,curie,\"id\",\"label\")\n",
    "            if name is not None:\n",
    "                names[name]=curie\n",
    "        return names\n",
    "        "
   ]
  },
  {
   "cell_type": "code",
   "execution_count": 49,
   "id": "51330341",
   "metadata": {},
   "outputs": [],
   "source": [
    "#This is some bubblegum and bailing wire shenanigans.  I apologize\n",
    "def print_consensus(con):\n",
    "    #sorting the dict by the length of the values (how many things if hit)\n",
    "    #and then slicing off the first entry because that one is provided in the query\n",
    "    for k in sorted(con,key=lambda k: len(con[k]),reverse=True)[1:]:\n",
    "        key_name=get_name_from_id(k)\n",
    "        value_names=get_name_from_id(con[k])\n",
    "        print(key_name)\n",
    "        print(\"Was found to interact with the following drugs\")\n",
    "        print(value_names)\n",
    "        print(\"\\n\\n\\n\")\n"
   ]
  },
  {
   "cell_type": "markdown",
   "id": "5caef28d",
   "metadata": {},
   "source": [
    "# APNEA"
   ]
  },
  {
   "cell_type": "code",
   "execution_count": 27,
   "id": "65e08cb1",
   "metadata": {},
   "outputs": [
    {
     "data": {
      "text/plain": [
       "'\\nVitamin A\\nValproate\\nFentanyl\\nMeperidine\\nMetoclopramide\\nOndansetron\\nPromethazine\\nRemifentanil\\nZolpidem\\nHydroxyzine\\n\\n'"
      ]
     },
     "execution_count": 27,
     "metadata": {},
     "output_type": "execute_result"
    }
   ],
   "source": [
    "drug_list = [\n",
    "    \"PUBCHEM.COMPOUND:445354\",\n",
    "    \"PUBCHEM.COMPOUND:3549980\",\n",
    "    \"PUBCHEM.COMPOUND:3345\",\n",
    "    \"PUBCHEM.COMPOUND:4058\",\n",
    "    \"PUBCHEM.COMPOUND:4168\",\n",
    "    \"PUBCHEM.COMPOUND:4595\",\n",
    "    \"PUBCHEM.COMPOUND:4927\",\n",
    "    \"PUBCHEM.COMPOUND:60815\",\n",
    "    \"PUBCHEM.COMPOUND:5732\",\n",
    "    \"PUBCHEM.COMPOUND:25096\"\n",
    "]\n",
    "\n",
    "# Vitamin A\n",
    "# Valproate\n",
    "# Fentanyl\n",
    "# Meperidine\n",
    "# Metoclopramide\n",
    "# Ondansetron\n",
    "# Promethazine\n",
    "# Remifentanil\n",
    "# Zolpidem\n",
    "# Hydroxyzine\n",
    "\n"
   ]
  },
  {
   "cell_type": "code",
   "execution_count": 28,
   "id": "wired-filename",
   "metadata": {
    "scrolled": false
   },
   "outputs": [
    {
     "name": "stdout",
     "output_type": "stream",
     "text": [
      "https://arax.ncats.io/?source=ARS&id=405773b7-13a7-4938-ac62-be594aa8b35e\n",
      "https://arax.ncats.io/?source=ARS&id=6ea8496b-e7c5-47cd-b241-7082f4f97125\n",
      "https://arax.ncats.io/?source=ARS&id=e9fca0ef-18b5-46ee-acec-df9a4c2933e9\n",
      "https://arax.ncats.io/?source=ARS&id=42fe43fc-328d-4994-ba72-74aaeb507131\n",
      "https://arax.ncats.io/?source=ARS&id=280c7a4b-15f5-4ec2-973c-373cb6fa3a4d\n",
      "https://arax.ncats.io/?source=ARS&id=f27d7cfd-cef1-4cba-8b0d-b1cea4c2cf81\n",
      "https://arax.ncats.io/?source=ARS&id=d910a7ba-197e-4869-85e2-aa0b5b7f761d\n",
      "https://arax.ncats.io/?source=ARS&id=7d21d9a5-290e-4d28-9b46-ff34e6bbb2d2\n",
      "https://arax.ncats.io/?source=ARS&id=2b2d080d-098f-4701-b98f-1cc7af1746f8\n",
      "https://arax.ncats.io/?source=ARS&id=76516063-0782-4dbe-86e9-9a824048bbc2\n"
     ]
    }
   ],
   "source": [
    "my_result_list=execute_batch(\"MONDO:0005296\",drug_list)"
   ]
  },
  {
   "cell_type": "code",
   "execution_count": 97,
   "id": "c5e922c5",
   "metadata": {},
   "outputs": [],
   "source": [
    "# Note, I don't have anything in place to check that the above are done before moving on\n",
    "# to finding a consensus.  So, probably give it a good 10-20 minutes for results to come back\n",
    "# before moving on to finding the consensus from the result sets"
   ]
  },
  {
   "cell_type": "code",
   "execution_count": 31,
   "id": "5932295c",
   "metadata": {},
   "outputs": [],
   "source": [
    "con_list = batch_consensus(my_result_list)"
   ]
  },
  {
   "cell_type": "code",
   "execution_count": 50,
   "id": "7eea0100",
   "metadata": {},
   "outputs": [
    {
     "name": "stdout",
     "output_type": "stream",
     "text": [
      "{'TY3H_HUMAN Tyrosine 3-monooxygenase (sprot)': 'UniProtKB:P07101'}\n",
      "Was found to interact with the following drugs\n",
      "{'Retinol': 'PUBCHEM.COMPOUND:445354', 'Valproate': 'PUBCHEM.COMPOUND:3549980'}\n",
      "\n",
      "\n",
      "\n",
      "\n",
      "{'CP2D6_HUMAN Cytochrome P450 2D6 (sprot)': 'UniProtKB:P10635'}\n",
      "Was found to interact with the following drugs\n",
      "{'Retinol': 'PUBCHEM.COMPOUND:445354', 'Fentanyl': 'PUBCHEM.COMPOUND:3345'}\n",
      "\n",
      "\n",
      "\n",
      "\n"
     ]
    }
   ],
   "source": [
    "con = con_list\n",
    "print_consensus(con)"
   ]
  },
  {
   "cell_type": "code",
   "execution_count": null,
   "id": "b4cfaa39",
   "metadata": {},
   "outputs": [],
   "source": []
  },
  {
   "cell_type": "markdown",
   "id": "2e4be181",
   "metadata": {},
   "source": [
    "# INFANTILE CEREBRAL PALSY"
   ]
  },
  {
   "cell_type": "code",
   "execution_count": 93,
   "id": "47ec3b98",
   "metadata": {},
   "outputs": [
    {
     "data": {
      "text/plain": [
       "'\\nTazarotene\\nTopiramate\\nAlprazolam\\nClonidine\\nBuspirone\\nLorazepam\\nOlanzapine\\nMetolopramide\\nOxymorphone\\n\\n'"
      ]
     },
     "execution_count": 93,
     "metadata": {},
     "output_type": "execute_result"
    }
   ],
   "source": [
    "drug_list = [\n",
    "    \"PUBCHEM.COMPOUND:5381\",\n",
    "    \"PUBCHEM.COMPOUND:5284627\",\n",
    "    \"PUBCHEM.COMPOUND:2118\",\n",
    "    \"PUBCHEM.COMPOUND:2803\",\n",
    "    \"PUBCHEM.COMPOUND:2477\",\n",
    "    \"PUBCHEM.COMPOUND:17836\",\n",
    "    \"PUBCHEM.COMPOUND:135398745\",\n",
    "    \"PUBCHEM.COMPOUND:4168\",\n",
    "    \"PUBCHEM.COMPOUND:5284604\"\n",
    "]\n",
    "\n",
    "# Tazarotene\n",
    "# Topiramate\n",
    "# Alprazolam\n",
    "# Clonidine\n",
    "# Buspirone\n",
    "# Lorazepam\n",
    "# Olanzapine\n",
    "# Metolopramide\n",
    "# Oxymorphone\n",
    "\n"
   ]
  },
  {
   "cell_type": "code",
   "execution_count": 94,
   "id": "046db2df",
   "metadata": {},
   "outputs": [
    {
     "name": "stdout",
     "output_type": "stream",
     "text": [
      "https://arax.ncats.io/?source=ARS&id=36212cd3-0f73-4c6b-9380-6f389618874d\n",
      "https://arax.ncats.io/?source=ARS&id=5eecfee4-a22e-4134-9a17-d250cfe27058\n",
      "https://arax.ncats.io/?source=ARS&id=463f46df-3f9b-4a62-a527-23dce73527dd\n",
      "https://arax.ncats.io/?source=ARS&id=869a3b70-be95-47f0-af6e-026d8d94b8c3\n",
      "https://arax.ncats.io/?source=ARS&id=fb35bb5c-046a-4a64-a860-77d7ed157d01\n",
      "https://arax.ncats.io/?source=ARS&id=37f6ddd4-57a6-42a6-b4ba-26267e33963d\n",
      "https://arax.ncats.io/?source=ARS&id=a0853774-ac14-44c5-baeb-545f64f946fd\n",
      "https://arax.ncats.io/?source=ARS&id=cf3257f8-c8e8-4cd8-a675-1649719a5a6c\n",
      "https://arax.ncats.io/?source=ARS&id=75c7b6cc-04bd-42cf-81c7-156650b59e0a\n"
     ]
    }
   ],
   "source": [
    "icp_results = execute_batch(\"MONDO:0006497\",drug_list)\n"
   ]
  },
  {
   "cell_type": "code",
   "execution_count": null,
   "id": "304998e1",
   "metadata": {},
   "outputs": [],
   "source": [
    "# Note, I don't have anything in place to check that the above are done before moving on\n",
    "# to finding a consensus.  So, probably give it a good 10-20 minutes for results to come back\n",
    "# before moving on to finding the consensus from the result sets"
   ]
  },
  {
   "cell_type": "code",
   "execution_count": 98,
   "id": "4b032dc6",
   "metadata": {},
   "outputs": [],
   "source": [
    "consensus = batch_consensus(icp_results)\n"
   ]
  },
  {
   "cell_type": "code",
   "execution_count": 99,
   "id": "b2b46eaf",
   "metadata": {
    "scrolled": true
   },
   "outputs": [
    {
     "name": "stdout",
     "output_type": "stream",
     "text": [
      "MONDO:0006497 {'PUBCHEM.COMPOUND:4168', 'PUBCHEM.COMPOUND:5284627', 'PUBCHEM.COMPOUND:5284604', 'PUBCHEM.COMPOUND:5381', 'PUBCHEM.COMPOUND:2477', 'PUBCHEM.COMPOUND:2803', 'PUBCHEM.COMPOUND:135398745', 'PUBCHEM.COMPOUND:2118'}\n",
      "UniProtKB:Q08117 {'PUBCHEM.COMPOUND:5284627', 'PUBCHEM.COMPOUND:5284604', 'PUBCHEM.COMPOUND:2803', 'PUBCHEM.COMPOUND:5381'}\n",
      "UniProtKB:P07101 {'PUBCHEM.COMPOUND:5284627', 'PUBCHEM.COMPOUND:2803', 'PUBCHEM.COMPOUND:135398745'}\n",
      "UniProtKB:P01189 {'PUBCHEM.COMPOUND:5284627', 'PUBCHEM.COMPOUND:135398745'}\n",
      "UniProtKB:P42574 {'PUBCHEM.COMPOUND:2803', 'PUBCHEM.COMPOUND:2477'}\n",
      "UniProtKB:Q96P20 {'PUBCHEM.COMPOUND:4168', 'PUBCHEM.COMPOUND:2803'}\n",
      "UniProtKB:Q9NSE2 {'PUBCHEM.COMPOUND:4168', 'PUBCHEM.COMPOUND:135398745'}\n"
     ]
    }
   ],
   "source": [
    "print_consensus(consensus)"
   ]
  },
  {
   "cell_type": "code",
   "execution_count": null,
   "id": "52885305",
   "metadata": {},
   "outputs": [],
   "source": []
  }
 ],
 "metadata": {
  "kernelspec": {
   "display_name": "Python 3 (ipykernel)",
   "language": "python",
   "name": "python3"
  },
  "language_info": {
   "codemirror_mode": {
    "name": "ipython",
    "version": 3
   },
   "file_extension": ".py",
   "mimetype": "text/x-python",
   "name": "python",
   "nbconvert_exporter": "python",
   "pygments_lexer": "ipython3",
   "version": "3.9.5"
  }
 },
 "nbformat": 4,
 "nbformat_minor": 5
}
