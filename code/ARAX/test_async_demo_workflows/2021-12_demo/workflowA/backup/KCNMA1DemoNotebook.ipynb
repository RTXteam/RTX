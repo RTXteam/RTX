{
 "cells": [
  {
   "cell_type": "markdown",
   "id": "8533e0cd",
   "metadata": {},
   "source": [
    "# This code will be hidden from actual users within a utility class"
   ]
  },
  {
   "cell_type": "code",
   "execution_count": 1,
   "id": "latter-glenn",
   "metadata": {},
   "outputs": [],
   "source": [
    "import json\n",
    "import requests\n",
    "import urllib\n",
    "import copy"
   ]
  },
  {
   "cell_type": "code",
   "execution_count": 2,
   "id": "fourth-tomorrow",
   "metadata": {},
   "outputs": [],
   "source": [
    "#https://pypi.org/project/gamma-viewer/\n",
    "from gamma_viewer import GammaViewer\n",
    "from IPython.display import display"
   ]
  },
  {
   "cell_type": "code",
   "execution_count": 3,
   "id": "loose-timber",
   "metadata": {},
   "outputs": [],
   "source": [
    "def submit_to_ars(m,ars_url='https://ars.transltr.io/ars/api',arax_url='https://arax.ncats.io/legacy'):\n",
    "    submit_url=f'{ars_url}/submit'\n",
    "    response = requests.post(submit_url,json=m)\n",
    "    try:\n",
    "        message_id = response.json()['pk']\n",
    "    except:\n",
    "        print('fail')\n",
    "        message_id = None\n",
    "    print(f'{arax_url}/?source=ARS&id={message_id}')\n",
    "    return message_id\n",
    "\n",
    "def retrieve_ars_results(mid,ars_url='https://ars.transltr.io/ars/api'):\n",
    "    message_url = f'{ars_url}/messages/{mid}?trace=y'\n",
    "    response = requests.get(message_url)\n",
    "    j = response.json()\n",
    "    print( j['status'] )\n",
    "    results = {}\n",
    "    for child in j['children']:\n",
    "        print(child['status'])\n",
    "        if child['status']  == 'Done':\n",
    "            childmessage_id = child['message']\n",
    "            child_url = f'{ars_url}/messages/{childmessage_id}'\n",
    "            try:\n",
    "                child_response = requests.get(child_url).json()\n",
    "                nresults = len(child_response['fields']['data']['message']['results'])\n",
    "                if nresults > 0:\n",
    "                    results[child['actor']['agent']] = {'message':child_response['fields']['data']['message']}\n",
    "            except Exception as e:\n",
    "                nresults=0\n",
    "                child['status'] = 'ARS Error'\n",
    "        elif child['status'] == 'Error':\n",
    "            nresults=0\n",
    "            childmessage_id = child['message']\n",
    "            child_url = f'{ars_url}/messages/{childmessage_id}'\n",
    "            try:\n",
    "                child_response = requests.get(child_url).json()\n",
    "                results[child['actor']['agent']] = {'message':child_response['fields']['data']['message']}\n",
    "            except Exception as e:\n",
    "                print(e)\n",
    "                child['status'] = 'ARS Error'\n",
    "        else:\n",
    "            nresults = 0\n",
    "        print( child['status'], child['actor']['agent'],nresults )\n",
    "    return results"
   ]
  },
  {
   "cell_type": "code",
   "execution_count": 4,
   "id": "honest-conducting",
   "metadata": {},
   "outputs": [],
   "source": [
    "def submit_to_devars(m):\n",
    "    return submit_to_ars(m,ars_url='https://ars-dev.transltr.io/ars/api',arax_url='https://arax.ncats.io')\n",
    "\n",
    "def retrieve_devars_results(m):\n",
    "    return retrieve_ars_results(m,ars_url='https://ars-dev.transltr.io/ars/api')\n",
    "\n",
    "def submit_to_ciars(m):\n",
    "    return submit_to_ars(m,ars_url='https://ars.ci.transltr.io/ars/api',arax_url='https://arax.ncats.io')\n",
    "\n",
    "def retrieve_ciars_results(m):\n",
    "    return retrieve_ars_results(m,ars_url='https://ars.ci.transltr.io/ars/api')\n"
   ]
  },
  {
   "cell_type": "code",
   "execution_count": 5,
   "id": "future-technique",
   "metadata": {},
   "outputs": [],
   "source": [
    "def printjson(j):\n",
    "    print(json.dumps(j,indent=4))\n",
    "\n",
    "def print_json(j):\n",
    "    printjson(j)"
   ]
  },
  {
   "cell_type": "code",
   "execution_count": 6,
   "id": "635226b1",
   "metadata": {},
   "outputs": [],
   "source": [
    "def parse(json):\n",
    "    keylist = list(json.keys())\n",
    "    for key in keylist:\n",
    "        if key in KEYS:\n",
    "            if (isinstance(json[KEYS.get(key)],dict)):\n",
    "                parse(json[key])\n",
    "        elif (isinstance(json[key],dict)):\n",
    "            parse(json[key])"
   ]
  },
  {
   "cell_type": "code",
   "execution_count": 7,
   "id": "minimal-device",
   "metadata": {},
   "outputs": [],
   "source": [
    "def name_lookup(text):\n",
    "    url= f'https://name-resolution-sri.renci.org/lookup?string={text}&offset=0&limit=10'\n",
    "    response = requests.post(url)\n",
    "    printjson(response.json())"
   ]
  },
  {
   "cell_type": "code",
   "execution_count": 8,
   "id": "least-investment",
   "metadata": {},
   "outputs": [],
   "source": [
    "def one_hop_message(subject_category,object_category,predicate=None,subject_id = None, object_id = None):\n",
    "    query_graph = {\n",
    "    \"nodes\": {\n",
    "        'a':{\n",
    "            \"category\": subject_category\n",
    "        },\n",
    "        'b':{\n",
    "            \"category\": object_category\n",
    "        }\n",
    "    },\n",
    "    \"edges\": {\n",
    "        'ab':{\n",
    "            \"subject\": \"a\",\n",
    "            \"object\": \"b\",\n",
    "            #\"predicate\": predicate\n",
    "        }\n",
    "    }\n",
    "    }\n",
    "    if predicate is not None:\n",
    "        query_graph['edges']['ab']['predicate'] = predicate\n",
    "    if subject_id is not None:\n",
    "        query_graph['nodes']['a']['id'] = subject_id\n",
    "    if object_id is not None:\n",
    "        query_graph['nodes']['b']['id'] = object_id\n",
    "    message = {\"message\": {\"query_graph\": query_graph},'knowledge_graph':{\"nodes\": [], \"edges\": [],}, 'results':[]}\n",
    "    return message"
   ]
  },
  {
   "cell_type": "code",
   "execution_count": 9,
   "id": "81bf7200",
   "metadata": {},
   "outputs": [],
   "source": [
    "def keys_exist(element, *keys):\n",
    "    if not isinstance(element, dict):\n",
    "        raise AttributeError('keys_exists() expects dict as first argument.')\n",
    "    if len(keys) == 0:\n",
    "        raise AttributeError('keys_exists() expects at least two arguments, one given.')\n",
    "\n",
    "    _element = element\n",
    "    for key in keys:\n",
    "        try:\n",
    "            _element = _element[key]\n",
    "            if _element is None:\n",
    "                return False\n",
    "        except KeyError:\n",
    "            return False\n",
    "    return True\n",
    "\n",
    "def get_safe(element,*keys):\n",
    "    '''\n",
    "    :param element: JSON to be processed\n",
    "    :param keys: list of keys in order to be traversed. e.g. \"fields\",\"data\",\"message\",\"results\n",
    "    :return: the value of the terminal key if present or None if not\n",
    "    '''\n",
    "    if element is None:\n",
    "        return None\n",
    "    _element = element\n",
    "    for key in keys:\n",
    "        try:\n",
    "            _element = _element[key]\n",
    "            if _element is None:\n",
    "                return None\n",
    "            if key == keys[-1]:\n",
    "                return _element\n",
    "        except KeyError:\n",
    "            return None\n",
    "    return None"
   ]
  },
  {
   "cell_type": "code",
   "execution_count": 59,
   "id": "2fbfd54d",
   "metadata": {},
   "outputs": [],
   "source": [
    "'''\n",
    "This pulls approved drugs by pulling chembl_max_phase attribute from nodes.  It should be noted that this will not\n",
    "work with drugs for which this field is not available or from Translator tools that do not implement it.\n",
    "'''\n",
    "\n",
    "def get_approved(results):\n",
    "    approved = []\n",
    "    for r in results:\n",
    "        nodes = get_safe(result[r],\"message\",\"knowledge_graph\",\"nodes\")\n",
    "        if nodes is not None:\n",
    "            for node in nodes:\n",
    "                attributes = get_safe(nodes[node],\"attributes\")\n",
    "                if attributes is not None:\n",
    "                    for attribute in attributes:\n",
    "                        if(\"attribute_type_id\" in attribute):\n",
    "                            #print(attribute)\n",
    "                            if(attribute[\"attribute_type_id\"]==\"chembl_max_phase\"):\n",
    "                                if(\"4\" in attribute[\"value\"]):\n",
    "                                    approved.append(node)\n",
    "                                else:\n",
    "                                    print(attribute[\"value\"])\n",
    "                            \n",
    "    return approved"
   ]
  },
  {
   "cell_type": "code",
   "execution_count": 11,
   "id": "fb668d6d",
   "metadata": {},
   "outputs": [],
   "source": [
    "def synonymize(ids, url=\"https://nodenormalization-sri.renci.org/1.1/get_normalized_nodes\"):\n",
    "        if( isinstance(ids,str) ):\n",
    "            ids = [ids]\n",
    "        params = {\"curie\":ids}\n",
    "        url_curies = urllib.parse.urlencode(params, True)\n",
    "        syn_url=url+\"?\"+url_curies\n",
    "        syn_response=requests.get(syn_url)\n",
    "        synonyms= syn_response.json()\n",
    "        return synonyms\n",
    "        \n",
    "                    "
   ]
  },
  {
   "cell_type": "code",
   "execution_count": 12,
   "id": "630dfb0b",
   "metadata": {},
   "outputs": [],
   "source": [
    "def create_synonym_table(messages):\n",
    "    synonyms={}\n",
    "    for message in messages.values():\n",
    "        nodes = get_safe(message,\"message\",\"knowledge_graph\",\"nodes\")\n",
    "        if nodes is not None:\n",
    "            sym = synonymize(nodes)\n",
    "            if(len(synonyms)==0):\n",
    "                synonyms= sym\n",
    "            else:\n",
    "                absent = []\n",
    "                for node in nodes:\n",
    "                    if(node in synonyms.items()):\n",
    "                        continue\n",
    "                    else:\n",
    "                        absent.append(node)\n",
    "                absent_syms = synonymize(absent)\n",
    "                synonyms.update(absent_syms)\n",
    "    return synonyms\n",
    "                \n"
   ]
  },
  {
   "cell_type": "code",
   "execution_count": 13,
   "id": "42b993e1",
   "metadata": {},
   "outputs": [],
   "source": [
    "def create_synonym_tables(messages):\n",
    "    synonyms={}\n",
    "    for entry in messages:\n",
    "        actor = entry\n",
    "        message = messages[actor]\n",
    "        nodes = get_safe(message,\"message\",\"knowledge_graph\",\"nodes\")\n",
    "        if nodes is not None:\n",
    "            sym = synonymize(nodes)\n",
    "            synonyms[actor]=sym\n",
    "    return synonyms\n",
    "                "
   ]
  },
  {
   "cell_type": "code",
   "execution_count": 14,
   "id": "2a64bc1e",
   "metadata": {},
   "outputs": [],
   "source": [
    "def canonical_id_lists(synonym_tables):\n",
    "    pks ={}\n",
    "    for entry in synonym_tables:\n",
    "        pks[entry]=[]\n",
    "        for k,v in synonym_tables[entry].items():\n",
    "            if v is None:\n",
    "                pks[entry].append(k)\n",
    "            else:\n",
    "                canonical_id=v[\"id\"][\"identifier\"]\n",
    "                if (canonical_id not in pks[entry]):\n",
    "                    pks[entry].append(canonical_id)\n",
    "    return pks"
   ]
  },
  {
   "cell_type": "code",
   "execution_count": 15,
   "id": "c3a3e46c",
   "metadata": {},
   "outputs": [],
   "source": [
    "def get_consensus_nodes(canonical_id_lists):\n",
    "    consensus={}\n",
    "    canon = copy.deepcopy(canonical_id_lists)\n",
    "    my_keys= canon.keys()\n",
    "    my_values=canon.values()\n",
    "    for actor, id_list in canonical_id_lists.items():\n",
    "        for actor2, id_list2 in canon.items():\n",
    "            #Surely, there is a better way to do this with slices or something\n",
    "            if(actor==actor2):\n",
    "                continue\n",
    "            else:\n",
    "                s1 = set(id_list)\n",
    "                s2 = set(id_list2)\n",
    "                inter = (s1 & s2)\n",
    "                if (inter):\n",
    "                    for node in inter:\n",
    "                        if node in consensus.keys():\n",
    "                            consensus[node].add(actor)\n",
    "                            consensus[node].add(actor2)\n",
    "                        else:\n",
    "                            consensus[node]={actor,actor2}      \n",
    "        canon.pop(actor,None)\n",
    "    return consensus\n",
    "        "
   ]
  },
  {
   "cell_type": "code",
   "execution_count": 16,
   "id": "0969dee5",
   "metadata": {},
   "outputs": [],
   "source": [
    "def get_name_from_id(curies,url=\"https://nodenormalization-sri.renci.org/1.1/get_normalized_nodes\"):\n",
    "        if( isinstance(curies,str) ):\n",
    "            curies = [curies]\n",
    "        params = {\"curie\":curies}\n",
    "        url_curies = urllib.parse.urlencode(params, True)\n",
    "        syn_url=url+\"?\"+url_curies\n",
    "        syn_response=requests.get(syn_url)\n",
    "        synonyms= syn_response.json()\n",
    "        names={}\n",
    "        for curie in curies:\n",
    "            name = get_safe(synonyms,curie,\"id\",\"label\")\n",
    "            if name is not None:\n",
    "                names[name]=curie\n",
    "        return names\n",
    "        "
   ]
  },
  {
   "cell_type": "markdown",
   "id": "77a97b76",
   "metadata": {},
   "source": [
    "# Non-Code Nerds Start Here:"
   ]
  },
  {
   "cell_type": "markdown",
   "id": "standard-recovery",
   "metadata": {},
   "source": [
    "# KCNMA1 \n",
    "\n",
    "***This query came to us by way of UAB's Precision Medicine Institute.  A mutation of the KCNMA1 gene in the patient caused paroxysmal nonkinesigenic dsykinesia (drop attacks).  Knowing that these symptoms were likely the result of the KCNMA1 mutation, we look for drugs which might have an effect on that gene or its product.***\n",
    "\n",
    "***The below query is essentially looking for chemical substances (including but not limited to approved drugs) which might have some effect on KCNMA1 (as defined by the identifier NCBIGene:23221)***"
   ]
  },
  {
   "cell_type": "code",
   "execution_count": 26,
   "id": "equipped-annotation",
   "metadata": {},
   "outputs": [],
   "source": [
    "kcq={\n",
    "    \"message\": {\n",
    "        \"query_graph\": {\n",
    "            \"nodes\": {\n",
    "                \"n0\": {\n",
    "                    \"ids\": [\n",
    "                        \"NCBIGene:3778\"\n",
    "                    ],\n",
    "                    \"categories\": [\n",
    "                        \"biolink:Gene\"\n",
    "                    ]\n",
    "                },\n",
    "                \"n1\": {\n",
    "\t\t             \"categories\":[\n",
    "                         \"biolink:ChemicalSubstance\"\n",
    "                        ]\n",
    "                }\n",
    "            },\n",
    "            \"edges\": {\n",
    "                \"e0\": {\n",
    "                    \"subject\": \"n0\",\n",
    "                    \"object\": \"n1\"\n",
    "\n",
    "                }\n",
    "            }\n",
    "        }\n",
    "    }\n",
    "}\n",
    "  \n"
   ]
  },
  {
   "cell_type": "markdown",
   "id": "ce8d7534",
   "metadata": {},
   "source": [
    "***Here, we submit the query to the ARS, which then sends it to all the connected Translator services and stores the results that are returned.***"
   ]
  },
  {
   "cell_type": "code",
   "execution_count": 27,
   "id": "wired-filename",
   "metadata": {},
   "outputs": [
    {
     "name": "stdout",
     "output_type": "stream",
     "text": [
      "https://arax.ncats.io/?source=ARS&id=93f89c50-728f-4033-9e5f-aa6c2031962d\n"
     ]
    }
   ],
   "source": [
    "kcresult = submit_to_devars(kcq)"
   ]
  },
  {
   "cell_type": "markdown",
   "id": "ffadc20c",
   "metadata": {},
   "source": [
    "***Here, we retrieve those results and display the number for each of the providers.  We may need to wait a few minutes before running this section to give the Translator tools time to compute the results***"
   ]
  },
  {
   "cell_type": "code",
   "execution_count": 28,
   "id": "b4358547",
   "metadata": {},
   "outputs": [
    {
     "name": "stdout",
     "output_type": "stream",
     "text": [
      "Running\n",
      "Running\n",
      "Running ara-aragorn 0\n",
      "Done\n",
      "Done ara-arax 153\n",
      "Done\n",
      "Done ara-bte 138\n",
      "Done\n",
      "Done ara-unsecret 53\n",
      "Done\n",
      "Done kp-genetics 0\n",
      "Error\n",
      "Error kp-molecular 0\n",
      "Done\n",
      "Done ara-explanatory 0\n",
      "Done\n",
      "Done ara-improving 5\n",
      "Error\n",
      "Error kp-cam 0\n",
      "Done\n",
      "Done kp-textmining 138\n",
      "Done\n",
      "Done kp-openpredict 0\n",
      "Done\n",
      "ARS Error kp-cohd 0\n",
      "Done\n",
      "Done kp-chp 0\n",
      "Done\n",
      "Done kp-icees 0\n",
      "Done\n",
      "Done kp-icees-dili 0\n"
     ]
    }
   ],
   "source": [
    "result = retrieve_devars_results(kcresult)"
   ]
  },
  {
   "cell_type": "markdown",
   "id": "b0b60cf2",
   "metadata": {},
   "source": [
    "***In the following sections, we take our results from above and sort them by the number of different tools that returned the same answer (after harmonizing all the different identifiers used).  So, the results that occur with the most concensus are at the top of the list.  The result that proved effective in the clinical setting was Vyvanse.  In our parlance, we return Methamphetamines.***"
   ]
  },
  {
   "cell_type": "code",
   "execution_count": 29,
   "id": "d2cf28ab",
   "metadata": {},
   "outputs": [],
   "source": [
    "syns = create_synonym_tables(result)"
   ]
  },
  {
   "cell_type": "code",
   "execution_count": 30,
   "id": "f09593c3",
   "metadata": {},
   "outputs": [
    {
     "name": "stdout",
     "output_type": "stream",
     "text": [
      "99\n"
     ]
    }
   ],
   "source": [
    "canon = canonical_id_lists(syns)\n",
    "con = get_consensus_nodes(canon)       \n",
    "print (len(con))"
   ]
  },
  {
   "cell_type": "code",
   "execution_count": 31,
   "id": "74c779e8",
   "metadata": {},
   "outputs": [
    {
     "name": "stdout",
     "output_type": "stream",
     "text": [
      "{'Chlorzoxazone': 'PUBCHEM.COMPOUND:2733'} {'ara-bte', 'ara-arax', 'kp-textmining', 'ara-unsecret'}\n",
      "{} {'ara-bte', 'ara-arax', 'kp-textmining', 'ara-unsecret'}\n",
      "{'KCNMA1': 'NCBIGene:3778'} {'ara-bte', 'kp-textmining', 'ara-improving', 'ara-unsecret'}\n",
      "{'Diazoxide': 'PUBCHEM.COMPOUND:3019'} {'ara-bte', 'ara-arax', 'kp-textmining'}\n",
      "{'Linoleic acid': 'PUBCHEM.COMPOUND:5280450'} {'ara-bte', 'ara-arax', 'kp-textmining'}\n",
      "{'4-Aminophenol': 'PUBCHEM.COMPOUND:403'} {'ara-bte', 'ara-arax', 'kp-textmining'}\n",
      "{'glycerophosphoethanolamine': 'CHEBI:36314'} {'ara-bte', 'ara-arax', 'kp-textmining'}\n",
      "{} {'ara-bte', 'ara-arax', 'kp-textmining'}\n",
      "{'Pinacidil': 'PUBCHEM.COMPOUND:4826'} {'ara-bte', 'ara-arax', 'kp-textmining'}\n",
      "{'Ether': 'PUBCHEM.COMPOUND:3283'} {'ara-bte', 'ara-arax', 'kp-textmining'}\n",
      "{'Cholesterol': 'PUBCHEM.COMPOUND:5997'} {'ara-bte', 'ara-arax', 'kp-textmining'}\n",
      "{'organic sulfate': 'CHEBI:25704'} {'ara-bte', 'ara-arax', 'kp-textmining'}\n",
      "{'Halothane': 'PUBCHEM.COMPOUND:3562'} {'ara-bte', 'ara-arax', 'kp-textmining'}\n",
      "{'Bilirubin': 'PUBCHEM.COMPOUND:5280352'} {'ara-bte', 'ara-arax', 'kp-textmining'}\n",
      "{'streptolysin O': 'MESH:C025964'} {'ara-bte', 'ara-arax', 'kp-textmining'}\n",
      "{'Cortisone': 'PUBCHEM.COMPOUND:222786'} {'ara-bte', 'ara-arax', 'kp-textmining'}\n",
      "{'metal atom': 'CHEBI:33521'} {'ara-bte', 'ara-arax', 'kp-textmining'}\n",
      "{'Nicotinamide_dinucleotide': 'PUBCHEM.COMPOUND:10897651'} {'ara-bte', 'ara-arax', 'kp-textmining'}\n",
      "{'4-Methylbenzenesulfonimidic acid': 'PUBCHEM.COMPOUND:56635390'} {'ara-bte', 'ara-arax', 'kp-textmining'}\n",
      "{'Flindokalner': 'PUBCHEM.COMPOUND:214350'} {'ara-bte', 'ara-arax', 'kp-textmining'}\n",
      "{'Trimebutine': 'PUBCHEM.COMPOUND:5573'} {'ara-bte', 'ara-arax', 'kp-textmining'}\n",
      "{'Lipopolysaccharide': 'PUBCHEM.COMPOUND:11970143'} {'ara-bte', 'ara-arax', 'kp-textmining'}\n",
      "{'Trichostatin A': 'PUBCHEM.COMPOUND:444732'} {'ara-bte', 'ara-arax', 'kp-textmining'}\n",
      "{'phenothiazines': 'CHEBI:38093'} {'ara-bte', 'ara-arax', 'kp-textmining'}\n",
      "{'insecticide': 'CHEBI:24852'} {'ara-bte', 'ara-arax', 'kp-textmining'}\n",
      "{'Hypotonic Solutions': 'MESH:D007038'} {'ara-bte', 'ara-arax', 'kp-textmining'}\n",
      "{'Tetraethylammonium': 'PUBCHEM.COMPOUND:5413'} {'ara-bte', 'ara-arax', 'kp-textmining'}\n",
      "{'Andolast': 'PUBCHEM.COMPOUND:65970'} {'ara-bte', 'ara-arax', 'kp-textmining'}\n",
      "{'trans-crotonin': 'MESH:C403585'} {'ara-bte', 'ara-arax', 'kp-textmining'}\n",
      "{'4-(5-Chloro-2-hydroxyphenyl)-3-(2-hydroxyethyl)-6-(trifluoromethyl)quinolin-2(1H)-one': 'PUBCHEM.COMPOUND:9951995'} {'ara-bte', 'ara-arax', 'kp-textmining'}\n",
      "{'N,N-Dimethyl-p-toluidine': 'PUBCHEM.COMPOUND:7471'} {'ara-bte', 'ara-arax', 'kp-textmining'}\n",
      "{} {'ara-bte', 'ara-arax', 'kp-textmining'}\n",
      "{'Aldosterone': 'PUBCHEM.COMPOUND:5839'} {'ara-bte', 'ara-arax', 'kp-textmining'}\n",
      "{'Paxilline': 'PUBCHEM.COMPOUND:105008'} {'ara-bte', 'ara-arax', 'kp-textmining'}\n",
      "{'Isochamaejasmin': 'PUBCHEM.COMPOUND:390361'} {'ara-bte', 'ara-arax', 'kp-textmining'}\n",
      "{} {'ara-bte', 'ara-arax', 'kp-textmining'}\n",
      "{'Heparitin, sulfate': 'PUBCHEM.COMPOUND:137699201'} {'ara-bte', 'ara-arax', 'kp-textmining'}\n",
      "{'perhydroxyl radical': 'MESH:C049375'} {'ara-bte', 'ara-arax', 'kp-textmining'}\n",
      "{'Carbon monoxide': 'PUBCHEM.COMPOUND:281'} {'ara-bte', 'ara-arax', 'kp-textmining'}\n",
      "{'Okadaic acid': 'PUBCHEM.COMPOUND:446512'} {'ara-bte', 'ara-arax', 'kp-textmining'}\n",
      "{'ion': 'CHEBI:24870'} {'ara-bte', 'ara-arax', 'kp-textmining'}\n",
      "{'Cytotoxins': 'MESH:D003603'} {'ara-bte', 'ara-arax', 'kp-textmining'}\n",
      "{'Docosahexaenoic acid': 'PUBCHEM.COMPOUND:445580'} {'ara-bte', 'ara-arax', 'kp-textmining'}\n",
      "{'Methamphetamine': 'PUBCHEM.COMPOUND:10836'} {'ara-bte', 'ara-arax', 'kp-textmining'}\n",
      "{'Thromboxane': 'PUBCHEM.COMPOUND:114873'} {'ara-bte', 'ara-arax', 'kp-textmining'}\n",
      "{'methylphosphotriester-DNA': 'CHEBI:137177'} {'ara-bte', 'ara-arax', 'kp-textmining'}\n",
      "{'1-[(3S,9S,10S)-9-[[Cyclopropylmethyl(methyl)amino]methyl]-12-[(2R)-1-hydroxypropan-2-yl]-3,10-dimethyl-13-oxo-2,8-dioxa-12-azabicyclo[12.4.0]octadeca-1(14),15,17-trien-16-yl]-3-(4-fluorophenyl)urea': 'PUBCHEM.COMPOUND:54614868'} {'ara-bte', 'ara-arax', 'kp-textmining'}\n",
      "{'Ecdysone 25-O-glucopyranoside': 'PUBCHEM.COMPOUND:11988271'} {'ara-bte', 'ara-arax', 'kp-textmining'}\n",
      "{'Chlorpromazine': 'PUBCHEM.COMPOUND:2726'} {'ara-bte', 'ara-arax', 'kp-textmining'}\n",
      "{'Benzthiazide': 'PUBCHEM.COMPOUND:2343'} {'ara-bte', 'ara-arax', 'kp-textmining'}\n",
      "{'Benzyl alcohol': 'PUBCHEM.COMPOUND:244'} {'ara-bte', 'ara-arax', 'kp-textmining'}\n",
      "{'Trichlormethiazide': 'PUBCHEM.COMPOUND:5560'} {'ara-bte', 'ara-arax', 'kp-textmining'}\n",
      "{'Emodepside': 'PUBCHEM.COMPOUND:6918632'} {'ara-bte', 'ara-arax', 'kp-textmining'}\n",
      "{'Bendroflumethiazide': 'PUBCHEM.COMPOUND:2315'} {'ara-bte', 'ara-arax', 'kp-textmining'}\n",
      "{'Enflurane': 'PUBCHEM.COMPOUND:3226'} {'ara-bte', 'ara-arax', 'kp-textmining'}\n",
      "{'Miconazole': 'PUBCHEM.COMPOUND:4189'} {'ara-bte', 'ara-arax', 'kp-textmining'}\n",
      "{'9,11-Methanoepoxy PGH2': 'PUBCHEM.COMPOUND:5311493'} {'ara-bte', 'ara-arax', 'kp-textmining'}\n",
      "{'Deoxylimonoic acid D-ring-lactone': 'PUBCHEM.COMPOUND:24892745'} {'ara-bte', 'ara-arax', 'kp-textmining'}\n",
      "{'Hydroflumethiazide': 'PUBCHEM.COMPOUND:3647'} {'ara-bte', 'ara-arax', 'kp-textmining'}\n",
      "{'Virulence Factors': 'MESH:D037521'} {'ara-bte', 'ara-arax', 'kp-textmining'}\n",
      "{'Aminopyridines': 'MESH:D000631'} {'ara-bte', 'ara-arax', 'kp-textmining'}\n",
      "{'Isotopes': 'MESH:D007554'} {'ara-bte', 'ara-arax', 'kp-textmining'}\n",
      "{'Benzidine': 'PUBCHEM.COMPOUND:7111'} {'ara-bte', 'ara-arax', 'kp-textmining'}\n",
      "{'Mitoguazone': 'PUBCHEM.COMPOUND:5351154'} {'ara-bte', 'ara-arax', 'kp-textmining'}\n",
      "{'Lavendustin A': 'PUBCHEM.COMPOUND:3894'} {'ara-bte', 'ara-arax', 'kp-textmining'}\n",
      "{} {'ara-bte', 'ara-arax', 'kp-textmining'}\n",
      "{'Aminocarb': 'PUBCHEM.COMPOUND:16247'} {'ara-bte', 'ara-arax', 'kp-textmining'}\n",
      "{\"N-(3-(Trifluoromethyl)phenyl)-N'-(2-hydroxy-5-chlorophenyl)urea\": 'PUBCHEM.COMPOUND:133058'} {'ara-bte', 'ara-arax', 'kp-textmining'}\n",
      "{} {'ara-bte', 'kp-textmining', 'ara-unsecret'}\n",
      "{'Pinacidil monohydrate': 'PUBCHEM.COMPOUND:55329'} {'ara-bte', 'kp-textmining', 'ara-unsecret'}\n",
      "{'KCMA1_HUMAN Calcium-activated potassium channel subunit alpha-1 (sprot)': 'UniProtKB:Q12791'} {'ara-arax', 'ara-unsecret'}\n",
      "{'Fe': 'PUBCHEM.COMPOUND:23925'} {'ara-bte', 'kp-textmining'}\n",
      "{'Arachidonic acid': 'PUBCHEM.COMPOUND:444899'} {'ara-bte', 'kp-textmining'}\n",
      "{'Protoheme': 'PUBCHEM.COMPOUND:26945'} {'ara-bte', 'kp-textmining'}\n",
      "{'Adenine': 'PUBCHEM.COMPOUND:190'} {'ara-bte', 'kp-textmining'}\n",
      "{'Ethanol': 'PUBCHEM.COMPOUND:702'} {'ara-bte', 'kp-textmining'}\n",
      "{'Ammonia dichloroplatinum(2+)': 'PUBCHEM.COMPOUND:23644016'} {'ara-bte', 'kp-textmining'}\n",
      "{'Lipid A': 'PUBCHEM.COMPOUND:9877306'} {'ara-bte', 'kp-textmining'}\n",
      "{'Dihydrolipoic acid': 'PUBCHEM.COMPOUND:421'} {'ara-bte', 'kp-textmining'}\n",
      "{'Isoproterenol': 'PUBCHEM.COMPOUND:3779'} {'ara-bte', 'kp-textmining'}\n",
      "{'Calcium': 'PUBCHEM.COMPOUND:5460341'} {'ara-bte', 'kp-textmining'}\n",
      "{'Dequalinium': 'PUBCHEM.COMPOUND:2993'} {'ara-bte', 'kp-textmining'}\n",
      "{'Beraprost': 'PUBCHEM.COMPOUND:6917951'} {'ara-bte', 'kp-textmining'}\n",
      "{'Hydrochlorothiazide': 'PUBCHEM.COMPOUND:3639'} {'ara-bte', 'kp-textmining'}\n",
      "{'Hydrocortisone': 'PUBCHEM.COMPOUND:5754'} {'ara-bte', 'kp-textmining'}\n",
      "{'Chlorothiazide': 'PUBCHEM.COMPOUND:2720'} {'ara-bte', 'kp-textmining'}\n",
      "{'(2R)-2-[(2R,3S,4R,5R,6S)-5-Azaniumyl-2-(hydroxymethyl)-3,6-bis(oxidanyl)oxan-4-yl]oxypropanoate': 'PUBCHEM.COMPOUND:11869231'} {'ara-bte', 'kp-textmining'}\n",
      "{'Calcium ion': 'PUBCHEM.COMPOUND:271'} {'ara-bte', 'kp-textmining'}\n",
      "{'Dithiothreitol': 'PUBCHEM.COMPOUND:446094'} {'ara-bte', 'kp-textmining'}\n",
      "{'Endotoxin': 'PUBCHEM.COMPOUND:53481793'} {'ara-bte', 'kp-textmining'}\n",
      "{'Estradiol': 'PUBCHEM.COMPOUND:5757'} {'ara-bte', 'kp-textmining'}\n",
      "{'Procaine': 'PUBCHEM.COMPOUND:4914'} {'ara-bte', 'kp-textmining'}\n",
      "{'Cromolyn': 'PUBCHEM.COMPOUND:2882'} {'ara-bte', 'kp-textmining'}\n",
      "{'4-(Trifluoromethyl)-2-[5-(trifluoromethyl)-2,3-dihydrobenzimidazol-1-yl]phenol': 'PUBCHEM.COMPOUND:52948538'} {'ara-bte', 'kp-textmining'}\n",
      "{'anthelminthic drug': 'CHEBI:35443'} {'ara-bte', 'kp-textmining'}\n",
      "{'2-Carboxyphenolate;hydron': 'PUBCHEM.COMPOUND:118212070'} {'ara-bte', 'kp-textmining'}\n",
      "{'Estrogen platinum (II) hybrid derivative': 'CHEMBL.COMPOUND:CHEMBL1627738'} {'ara-bte', 'kp-textmining'}\n",
      "{} {'ara-bte', 'kp-textmining'}\n",
      "{'Potassium ion': 'PUBCHEM.COMPOUND:813'} {'ara-bte', 'kp-textmining'}\n"
     ]
    }
   ],
   "source": [
    "for k in sorted(con,key=lambda k: len(con[k]),reverse=True):\n",
    "    print(get_name_from_id(k), con[k])"
   ]
  },
  {
   "cell_type": "markdown",
   "id": "2e74d022",
   "metadata": {},
   "source": [
    "\n",
    "\n",
    "***This method should give us only the drugs which are currently FDA approved, greatly reducing the number of results\n",
    "we need to consider.***\n",
    "\n"
   ]
  },
  {
   "cell_type": "code",
   "execution_count": 58,
   "id": "9ffa622b",
   "metadata": {},
   "outputs": [],
   "source": [
    "approved_list = get_approved(result)"
   ]
  },
  {
   "cell_type": "code",
   "execution_count": 61,
   "id": "47ec3b98",
   "metadata": {},
   "outputs": [
    {
     "name": "stdout",
     "output_type": "stream",
     "text": [
      "{'Trichlormethiazide': 'CHEMBL.COMPOUND:CHEMBL1054'}\n",
      "{'Cholesterol': 'CHEMBL.COMPOUND:CHEMBL112570'}\n",
      "{'CISPLATIN': 'CHEMBL.COMPOUND:CHEMBL11359'}\n",
      "{'Pinacidil': 'CHEMBL.COMPOUND:CHEMBL1159'}\n",
      "{'Chlorothiazide sodium': 'CHEMBL.COMPOUND:CHEMBL1200616'}\n",
      "{'PROCAINE HYDROCHLORIDE': 'CHEMBL.COMPOUND:CHEMBL1200841'}\n",
      "{'Benzthiazide': 'CHEMBL.COMPOUND:CHEMBL1201039'}\n",
      "{'Methamphetamine': 'CHEMBL.COMPOUND:CHEMBL1201201'}\n",
      "{'POLYESTRADIOL PHOSPHATE': 'CHEMBL.COMPOUND:CHEMBL1201477'}\n",
      "{'Dequalinium chloride': 'CHEMBL.COMPOUND:CHEMBL121663'}\n",
      "{'Enflurane': 'CHEMBL.COMPOUND:CHEMBL1257'}\n",
      "{'Chlorzoxazone': 'CHEMBL.COMPOUND:CHEMBL1371'}\n",
      "{'Cortisone': 'CHEMBL.COMPOUND:CHEMBL1499'}\n",
      "{'Hydrocortisone cypionate': 'CHEMBL.COMPOUND:CHEMBL1549'}\n",
      "{'Bendroflumethiazide': 'CHEMBL.COMPOUND:CHEMBL1684'}\n",
      "{'l-Isoprenaline hydrochloride': 'CHEMBL.COMPOUND:CHEMBL1711'}\n",
      "{'Hydroflumethiazide': 'CHEMBL.COMPOUND:CHEMBL1763'}\n",
      "{'Diazoxide': 'CHEMBL.COMPOUND:CHEMBL181'}\n",
      "{'POLYVINYL ALCOHOL': 'CHEMBL.COMPOUND:CHEMBL3559671'}\n",
      "{'POTASSIUM SALICYLATE': 'CHEMBL.COMPOUND:CHEMBL3707342'}\n",
      "{'Thiazol-3-ium chloride': 'CHEMBL.COMPOUND:CHEMBL43686'}\n",
      "{'Chlorpromazine': 'CHEMBL.COMPOUND:CHEMBL71'}\n",
      "{'Benzyl alcohol': 'CHEMBL.COMPOUND:CHEMBL720'}\n",
      "{'Cromolyn sodium': 'CHEMBL.COMPOUND:CHEMBL74'}\n",
      "{'Miconazole': 'CHEMBL.COMPOUND:CHEMBL91'}\n",
      "{'Halothane': 'CHEMBL.COMPOUND:CHEMBL931'}\n",
      "{'Chlorzoxazone': 'CHEBI:3655'}\n",
      "{'Hydrochlorothiazide': 'CHEBI:5778'}\n",
      "{'Bendroflumethiazide': 'CHEBI:3013'}\n",
      "{'Dequalinium': 'CHEBI:41872'}\n",
      "{'Diazoxide': 'CHEBI:4495'}\n",
      "{'Hydroflumethiazide': 'CHEBI:5784'}\n",
      "{'Halothane': 'CHEBI:5615'}\n",
      "{'Benzthiazide': 'CHEBI:3047'}\n",
      "{'Pinacidil': 'CHEBI:91706'}\n",
      "{'Pinacidil monohydrate': 'CHEBI:34923'}\n",
      "{'Estradiol': 'CHEBI:16469'}\n",
      "{'Chlorothiazide': 'CHEBI:3640'}\n",
      "{'Enflurane': 'CHEBI:4792'}\n",
      "{'Miconazole': 'CHEBI:82892'}\n",
      "{'Cromolyn': 'CHEBI:59773'}\n",
      "{'Procaine': 'CHEBI:8430'}\n",
      "{'Trichlormethiazide': 'CHEBI:9683'}\n",
      "{'Ethanol': 'CHEBI:16236'}\n",
      "{'Cholesterol': 'CHEBI:16113'}\n",
      "{'Cortisone': 'CHEBI:16962'}\n",
      "{'Hydrocortisone': 'CHEBI:17650'}\n",
      "{'Methamphetamine': 'CHEBI:6809'}\n",
      "{'Benzyl alcohol': 'CHEBI:17987'}\n",
      "{'Chlorpromazine': 'CHEBI:3647'}\n",
      "{'Ammonia dichloroplatinum(2+)': 'CHEBI:35852'}\n",
      "{'2-Carboxyphenolate;hydron': 'CHEBI:16914'}\n",
      "{'Isoproterenol': 'CHEBI:64317'}\n"
     ]
    }
   ],
   "source": [
    "for drug in approved_list:\n",
    "    print(get_name_from_id(drug))"
   ]
  },
  {
   "cell_type": "code",
   "execution_count": null,
   "id": "03745af6",
   "metadata": {},
   "outputs": [],
   "source": []
  }
 ],
 "metadata": {
  "kernelspec": {
   "display_name": "Python 3 (ipykernel)",
   "language": "python",
   "name": "python3"
  },
  "language_info": {
   "codemirror_mode": {
    "name": "ipython",
    "version": 3
   },
   "file_extension": ".py",
   "mimetype": "text/x-python",
   "name": "python",
   "nbconvert_exporter": "python",
   "pygments_lexer": "ipython3",
   "version": "3.9.5"
  }
 },
 "nbformat": 4,
 "nbformat_minor": 5
}
