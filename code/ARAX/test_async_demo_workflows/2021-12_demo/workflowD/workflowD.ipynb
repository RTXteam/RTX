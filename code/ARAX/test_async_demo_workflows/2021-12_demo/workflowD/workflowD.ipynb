{
 "cells": [
  {
   "cell_type": "markdown",
   "id": "0b7d2e6a-7d8d-4db6-87aa-72e63c9eb1c6",
   "metadata": {},
   "source": [
    "# Workflow D: Explain"
   ]
  },
  {
   "cell_type": "markdown",
   "id": "7a00acc5-dd4b-4e61-b570-afdbce3105de",
   "metadata": {},
   "source": [
    "This Workflow D is designed to demonstrate the Translator's ability to\n",
    "explain a biological phenomenon or observation by filling in missing\n",
    "pieces of a possible mechanistic causal chain that connect two concepts\n",
    "(entities) A and B observed to be associated.  This type of question are\n",
    "on the rise in the era of big data medicine. For instance, why are, as\n",
    "seen in metabolomics study in a cohort, the metabolites A and B\n",
    "anti-correlated?  Why do users of drug A, as seen in a big data\n",
    "analytics of an EHR data set, have a lower risk of disease B?  With the\n",
    "anticipated spread of multi-omics profiling of patient material in\n",
    "research and diagnostics, many unexplained associations will emerge\n",
    "– between drug use, blood metabolites an porteins, clinical\n",
    "manifestations etc. The goal of a query is to find an explanatory\n",
    "multi-hop path in a knowledge graph that may help explain the empirical\n",
    "association between the entities A and B.\n",
    "\n",
    "Currently, Translator queries assume a particular structure of the\n",
    "explanation, embodied by the query graph. Then the task of the\n",
    "Translator is to \"fill in the blanks\" defined in the query graph. In the\n",
    "future identifying the best query graph will be part of the task by the Translator)\n",
    "\n",
    "NOTE: Because a query graph structure is still required even if the user\n",
    "may not know the struture of the explanatory mechanism they are looking\n",
    "for, to test the Workflow, the queries were reverse-engineered from\n",
    "known or possible answers (in the form of knowledge graphs). The latter\n",
    "were previously designed based on SME knowledge or literature, or\n",
    "extracted from SPOKE KP via the neighborhood explorer tool that gives\n",
    "GUI access to the [SPOKE KG](https://spoke.rbvi.ucsf.edu/) – see example\n",
    "in D.2. The graphs were then encoded as TRAPI JSON but it may need to be\n",
    "broken down into step-wise queries for a Translator workflow that can\n",
    "realistically executed at this point since there is no operation yet\n",
    "for: \"connect the dots without specified qgraph structure\". \n",
    "\n",
    "The four initial queries for a first round of testing (starting July\n",
    "2021) seek to answer the following questions:"
   ]
  },
  {
   "cell_type": "markdown",
   "id": "7b7db69a-0301-40a4-868d-6ee8f43d2cac",
   "metadata": {},
   "source": [
    "## Queries"
   ]
  },
  {
   "cell_type": "markdown",
   "id": "c05cd119-3472-4963-9876-f51751086fe2",
   "metadata": {},
   "source": [
    "### D.1. Why do Crohn's disease patients have a higher risk to develop Parkinson's disease?\n",
    "**PURPOSE:** Two independently established gene-disease relationships\n",
    "(one-hop) are joined by the common gene that is involved in both\n",
    "diseases – explaining why pateints with one disease (Crohn's disease)\n",
    "are at risk of the other, apparently independent disease (Parkinson's\n",
    "disease). Can the Translator, starting with the name of these two\n",
    "diseases, identify the common gene? This question tests a two-hop query\n",
    "in which the central node is the unknown gene that connects the two\n",
    "input diseases. \n",
    "\n",
    "**BIOLOGY:**\n",
    "\n",
    "![D.1](images/D.1_parkisons-crohns.png)\n",
    "\n",
    "*blue = query input, red = unknown, to be returned*\n",
    "\n",
    "**ANTICIPATED RETURN:** This example is based on established\n",
    "\"ground truth\". Its simple structure makes thus query essentially a\n",
    "loop-up in the form of an 'AND' search. The return should identify the\n",
    "gene 'LRRK2' as the genetic basis of both diseases. But other genes\n",
    "(PARK7, MOD2, NO2,..) have also been associated with both these\n",
    "diseases."
   ]
  },
  {
   "cell_type": "markdown",
   "id": "129d8836-bca6-44c1-9f05-f8164e81ce35",
   "metadata": {},
   "source": [
    "First we set up our environment with some helpful functions:"
   ]
  },
  {
   "cell_type": "code",
   "execution_count": null,
   "id": "b42c1905-f5ce-4cf4-bf6d-98a26a79a5fb",
   "metadata": {},
   "outputs": [],
   "source": [
    "from query_helpers import (\n",
    "    ARS_URL_DEV,\n",
    "    KEY_FOUND_IN_AGENTS,\n",
    "    expand_expected_results,\n",
    "    find_expected_results,\n",
    "    get_ars_results,\n",
    "    get_all_results,\n",
    "    get_predicates_from_agent_responses,\n",
    "    open_query,\n",
    "    print_query,\n",
    "    print_edge_results,\n",
    "    print_unified_results,\n",
    "    submit_to_ars,\n",
    "    unify_results\n",
    ")"
   ]
  },
  {
   "cell_type": "markdown",
   "id": "060ff9af-983c-418a-98ca-1664845236b6",
   "metadata": {},
   "source": [
    "---"
   ]
  },
  {
   "cell_type": "markdown",
   "id": "8a255cad-7b54-408e-88e6-2172bac12fab",
   "metadata": {},
   "source": [
    "Next, we can open and view the query:"
   ]
  },
  {
   "cell_type": "code",
   "execution_count": null,
   "id": "fb04c712-d1cf-4d2a-8755-46ad37821a59",
   "metadata": {},
   "outputs": [],
   "source": [
    "query_d1 = open_query('D.1_parkinsons-crohns.json')\n",
    "print_query(query_d1)"
   ]
  },
  {
   "cell_type": "markdown",
   "id": "23b28f79-1c70-4a69-9ebc-8e3cf35b1475",
   "metadata": {},
   "source": [
    "This query might be represented as follows:  \n",
    "\n",
    "**(Parkinson's Disease) - is related to - (Any Node) - is related to - (Alzheimer's Disease)**\n",
    "\n",
    "Now we will send it to the ARS:"
   ]
  },
  {
   "cell_type": "code",
   "execution_count": null,
   "id": "1b236190-8fa8-4c07-bcb4-758079620964",
   "metadata": {},
   "outputs": [],
   "source": [
    "ars_pk_for_query_d1 = submit_to_ars(query_d1)"
   ]
  },
  {
   "cell_type": "code",
   "execution_count": null,
   "id": "8f310029-8a31-4b0a-8cf4-c786f3385fda",
   "metadata": {},
   "outputs": [],
   "source": [
    "# A cached PK, if necessary\n",
    "ars_pk_for_query_d1 = 'abb8f85a-a0cc-4083-aad9-6695cb4b638a'"
   ]
  },
  {
   "cell_type": "markdown",
   "id": "9a0a6cb0-8b31-4d5e-ae2c-33b6fe88e1ab",
   "metadata": {},
   "source": [
    "---"
   ]
  },
  {
   "cell_type": "markdown",
   "id": "be60a4a2-1878-48c0-9272-98092adab833",
   "metadata": {},
   "source": [
    "Once it looks like the queries have finished, we can start pulling them here:"
   ]
  },
  {
   "cell_type": "code",
   "execution_count": null,
   "id": "facf76a6-71d0-4439-ad12-04f2680b3c18",
   "metadata": {},
   "outputs": [],
   "source": [
    "query_d1_ars_results = get_ars_results(ars_pk_for_query_d1)"
   ]
  },
  {
   "cell_type": "markdown",
   "id": "54a23382-a6ab-44e9-be7b-30f16e4f11fc",
   "metadata": {},
   "source": [
    "---"
   ]
  },
  {
   "cell_type": "markdown",
   "id": "50acd113-cc98-4e2e-a07b-12ddcabb347a",
   "metadata": {},
   "source": [
    "We know what we expect here, so we'll set up a configuration to inspect results for LRRK2, PARK7, or MOD2\n",
    "\n",
    "We will specify the q_node id of the unspecified node for 'NamedThing' from our query graph above"
   ]
  },
  {
   "cell_type": "code",
   "execution_count": null,
   "id": "6de3f096-0d66-438f-a710-1ed32bb5f648",
   "metadata": {},
   "outputs": [],
   "source": [
    "query_d1_node_of_interest = 'n01'\n",
    "expected_d1_results = {\n",
    "    query_d1_node_of_interest: [\n",
    "        'NCBIGene:120892', # LRRK2\n",
    "        'NCBIGene:11315', # PARK7\n",
    "        'NCBIGene:110357', # MOD2\n",
    "    ]\n",
    "}"
   ]
  },
  {
   "cell_type": "markdown",
   "id": "0f6245de-aee8-409c-84b5-85019d2eea0a",
   "metadata": {},
   "source": [
    "Now we can search for alisas for these identifiers that might be in a result"
   ]
  },
  {
   "cell_type": "code",
   "execution_count": null,
   "id": "0778f042-6e6f-4000-a2d7-391936d77f9b",
   "metadata": {},
   "outputs": [],
   "source": [
    "expanded_expected_d1_results = expand_expected_results(expected_d1_results)"
   ]
  },
  {
   "cell_type": "markdown",
   "id": "d399a623-0c48-4324-a5c4-e6cc82816c11",
   "metadata": {},
   "source": [
    "Let's see what our possible list looks like now:"
   ]
  },
  {
   "cell_type": "code",
   "execution_count": null,
   "id": "68d1c25b-4b8c-4f5a-a82f-3d498ad8f97f",
   "metadata": {},
   "outputs": [],
   "source": [
    "_ = [print(i) for i in expanded_expected_d1_results[query_d1_node_of_interest]]"
   ]
  },
  {
   "cell_type": "markdown",
   "id": "206f18a4-06b3-400d-a29c-1fbc0221fd76",
   "metadata": {},
   "source": [
    "---"
   ]
  },
  {
   "cell_type": "markdown",
   "id": "c21d6f56-ea72-4c76-b229-954f473a5193",
   "metadata": {},
   "source": [
    "Now that we have a large set of identifiers that might be used in the results, let's inspect the all of the results.\n",
    "\n",
    "For right now, we'll only retrieve that ones that we've said we're interested in above.\n",
    "\n",
    "We'll iterate through the results that we have and collect them all in one place."
   ]
  },
  {
   "cell_type": "code",
   "execution_count": null,
   "id": "f1ec3d82-132a-4987-a32d-e9e7ae630b8c",
   "metadata": {
    "tags": []
   },
   "outputs": [],
   "source": [
    "agent_results = find_expected_results(\n",
    "    query_d1_ars_results,\n",
    "    expanded_expected_d1_results,\n",
    ")"
   ]
  },
  {
   "cell_type": "markdown",
   "id": "f6bd5bf2-e15c-418c-8525-6a5f24e7eb1d",
   "metadata": {},
   "source": [
    "---"
   ]
  },
  {
   "cell_type": "markdown",
   "id": "2551163d-f714-4fe6-b072-2da45814fc75",
   "metadata": {},
   "source": [
    "Now we've isolated the results that we decided ahead of time were interesting. Let's see which components returned\n",
    "those results"
   ]
  },
  {
   "cell_type": "code",
   "execution_count": null,
   "id": "c9389053-c43a-4afc-abf2-06811f0bcc7b",
   "metadata": {},
   "outputs": [],
   "source": [
    "unified_results = unify_results(agent_results, query_d1_node_of_interest)\n",
    "print_unified_results(unified_results)"
   ]
  },
  {
   "cell_type": "markdown",
   "id": "f345a5f0-0456-426e-96cb-dd329df8fe67",
   "metadata": {},
   "source": [
    "**Note that some agents return results as sets, thus the inclusion of other genes above**"
   ]
  },
  {
   "cell_type": "markdown",
   "id": "44220800-317f-420e-9f0a-55795e25a577",
   "metadata": {},
   "source": [
    "---"
   ]
  },
  {
   "cell_type": "markdown",
   "id": "9fea2a9e-4785-45b0-bca5-20053cde9c9f",
   "metadata": {},
   "source": [
    "If we want to take a look at *all* the results, we can do so by running the following:\n",
    "\n",
    "NOTE: it can take a while to resolve all the nodes"
   ]
  },
  {
   "cell_type": "code",
   "execution_count": null,
   "id": "3d4d3e8b-efd3-4d89-864a-d27154237f3f",
   "metadata": {},
   "outputs": [],
   "source": [
    "all_d1_results = get_all_results(query_d1_ars_results)"
   ]
  },
  {
   "cell_type": "code",
   "execution_count": null,
   "id": "208d722c-f09a-40a3-80b2-a113f4bcb6ef",
   "metadata": {
    "tags": []
   },
   "outputs": [],
   "source": [
    "all_d1_unified_results = unify_results(all_d1_results, query_d1_node_of_interest)\n",
    "print_unified_results(all_d1_unified_results)"
   ]
  },
  {
   "cell_type": "markdown",
   "id": "952dbf12-e29e-45b4-905e-76d1cd2e781d",
   "metadata": {},
   "source": [
    "---"
   ]
  },
  {
   "cell_type": "markdown",
   "id": "87a5aa22-7592-4daa-80ac-0550a1ab2b8c",
   "metadata": {},
   "source": [
    "### D.2 Why do SSRI (a group of anti-depressants) have cardio-protective effect?\n",
    "\n",
    "**PURPOSE:** This query, like D.1., also seeks one node that in a\n",
    "two-hop query will connect the two input nodes: a drug (family) and a\n",
    "disease (group). The challenge is higher than in D.1. since here the\n",
    "type of the node queries is not defined because the very nature of the\n",
    "mechanistic explanation is not known. Additional challenges come from\n",
    "the fact that the nodes contain hierarchical higher-level terms (family\n",
    "of drugs, group of diseases), requiring down-ward expansion for the\n",
    "query. Notably, for the bottom node a proper modeling/query for the\n",
    "ontology of 'heart disease' will be tested. For the top node, similarly\n",
    "the drug family of 'SSRI' may have be expanded to query specific\n",
    "compounds of this family. An additional challenge that the mechanism\n",
    "connecting the drug and the beneficial side-effect may involve more than\n",
    "one node. The query D.3. offers a simplified query graph.\n",
    "\n",
    "**BIOLOGY**:\n",
    "\n",
    "![D.2](images/D.2_ssri-heart-disease.png)\n",
    "\n",
    "*blue = query input, red = unknown, to be returned*\n",
    "\n",
    "**ANTICIPATED RETURN:** In this case, for the return there is no simple\n",
    "ground truth. An empirical study has suggested that akin to the action\n",
    "of anti-platelet-aggregation drugs, interference with platelet\n",
    "activation may explain a benefit in reducing the risk for ischemic heart\n",
    "disease, such as myocardial infarct. Thus, at least one term related to\n",
    "platelet function that is connected to SSRI (possibly via serotonin) and\n",
    "to cardiac disease would represent a useful return. But the ground truth\n",
    "may be complex and other mechanisms are likely involved and must be\n",
    "evaluated individually by SMEs. For instance, an interactive SPOKE\n",
    "search retrieved the other genes that may play a role in coronary artery\n",
    "diseases and myocardial infract and are affected by specific SSRI drugs,\n",
    "such as 'LIPA', PROS1  or 'TGF-beta' pathway proteins (however, the\n",
    "directionality with respect to increase/decrease risk of heart disease\n",
    "remains to be determined). The figure below illustrates as an example of\n",
    "results obtained when using an interactive approach such as the\n",
    "Neighborhood Explorer web GUI extract information from the SPOKE KG to\n",
    "address the question posed in this D.2. query:\n",
    "\n",
    "![D.2 expected return](images/D.2_ssri-heart-disease-return.png)\n",
    "\n",
    "Due to this challenge, the query graph was also generated from a simpler\n",
    "solution involving only one hop (D.3.)."
   ]
  },
  {
   "cell_type": "markdown",
   "id": "d93cc13b-aec5-4286-a9be-94de6ca62060",
   "metadata": {},
   "source": [
    "We've been oriented to how things work above, so we can work a little less verbosely here:"
   ]
  },
  {
   "cell_type": "code",
   "execution_count": null,
   "id": "0a046e01-ecaa-4853-8793-e6518247b19b",
   "metadata": {},
   "outputs": [],
   "source": [
    "query_d2 = open_query('D.2_ssri-heart-disease.json')\n",
    "print_query(query_d2)"
   ]
  },
  {
   "cell_type": "markdown",
   "id": "2ccfb391-8f72-4b06-a5df-71dce3a2782d",
   "metadata": {},
   "source": [
    "This query might be represented as follows:  \n",
    "\n",
    "**(An approved SSRI) - is related to - (Gene) - is related to - (a cardiace disorder)**"
   ]
  },
  {
   "cell_type": "code",
   "execution_count": null,
   "id": "5bb0e5a6-048f-4ddf-a022-07baad7f9c6f",
   "metadata": {},
   "outputs": [],
   "source": [
    "ars_pk_for_query_d2 = submit_to_ars(query_d2)"
   ]
  },
  {
   "cell_type": "code",
   "execution_count": null,
   "id": "1555738e-ccfc-4187-8263-093f8802db78",
   "metadata": {},
   "outputs": [],
   "source": [
    "# A cached PK, if necessary\n",
    "ars_pk_for_query_d2 = 'd680d232-98d8-4b0b-9767-de7d947ca036'"
   ]
  },
  {
   "cell_type": "code",
   "execution_count": null,
   "id": "c33c5bb0-def3-4107-ab61-1359778b0b9d",
   "metadata": {},
   "outputs": [],
   "source": [
    "# if finished, start pulling the results here\n",
    "query_d2_ars_results = get_ars_results(ars_pk_for_query_d2)"
   ]
  },
  {
   "cell_type": "code",
   "execution_count": null,
   "id": "4d0057c8-81b3-4731-9c03-8428609d86b1",
   "metadata": {},
   "outputs": [],
   "source": [
    "# set the query responses of interest\n",
    "query_d2_node_of_interest = 'n01'\n",
    "expected_d2_results = {\n",
    "    query_d2_node_of_interest: [\n",
    "        'NCBIGene:3988', # LIPA\n",
    "        'NCBIGene:5627', # PROS1\n",
    "        'NCBIGene:7043', # TGFB3\n",
    "    ]\n",
    "}\n"
   ]
  },
  {
   "cell_type": "code",
   "execution_count": null,
   "id": "3b3e1bd4-17cb-465a-b80f-18bb7e4ec7fb",
   "metadata": {},
   "outputs": [],
   "source": [
    "# expand the set of possible answers with synonyms\n",
    "expanded_expected_d2_results = expand_expected_results(expected_d2_results)"
   ]
  },
  {
   "cell_type": "code",
   "execution_count": null,
   "id": "ebcb769f-c7c8-4c65-87b1-52afb513324a",
   "metadata": {
    "tags": []
   },
   "outputs": [],
   "source": [
    "# search the returned results for those expected\n",
    "agent_results_d2 = find_expected_results(\n",
    "    query_d2_ars_results,\n",
    "    expanded_expected_d2_results,\n",
    ")"
   ]
  },
  {
   "cell_type": "code",
   "execution_count": null,
   "id": "66e92263-7eec-40ef-b8f4-192f43e36ee9",
   "metadata": {},
   "outputs": [],
   "source": [
    "# unify and view the results\n",
    "unified_results_d2 = unify_results(agent_results_d2, query_d2_node_of_interest)\n",
    "print_unified_results(unified_results_d2)"
   ]
  },
  {
   "cell_type": "markdown",
   "id": "20fb1c97-8b80-4d6b-9578-b51acdf725e1",
   "metadata": {},
   "source": [
    "**At this point, the results are limited by the choice of cardiovascular diseases in the query**\n",
    "\n",
    "Perhaps a re-examination of that choice can find a middle-ground between the vast 'heart disease'\n",
    "and the specific children found in this query presently.\n",
    "\n",
    "Also, there is no ground truth here, so we are trying to discover knowledge, making a pre-determined\n",
    "list of expected answers difficult."
   ]
  },
  {
   "cell_type": "markdown",
   "id": "67ea32dc-6547-4d47-8f59-7373a77bc04a",
   "metadata": {},
   "source": [
    "Again, we can examine all the results if we wish, but note there are *a lot*"
   ]
  },
  {
   "cell_type": "code",
   "execution_count": null,
   "id": "89e6998e-c94a-4827-950c-1b7d2215a6ce",
   "metadata": {},
   "outputs": [],
   "source": [
    "all_d2_results = get_all_results(query_d2_ars_results)\n",
    "all_d2_unified_results = unify_results(all_d2_results, query_d2_node_of_interest)\n",
    "print_unified_results(all_d2_unified_results)"
   ]
  },
  {
   "cell_type": "markdown",
   "id": "b4bd040f-a223-411a-9bbc-ebf7d480ac69",
   "metadata": {},
   "source": [
    "---"
   ]
  },
  {
   "cell_type": "markdown",
   "id": "28e4ed28-1834-421b-bb62-ca2d7a425694",
   "metadata": {},
   "source": [
    "### D.3: The simplified one-hop version of D.2., by searching for specified nodes and unspecified predicates"
   ]
  },
  {
   "cell_type": "markdown",
   "id": "582d6770-4a30-4297-ab3a-a10d9eb1dbc4",
   "metadata": {},
   "source": [
    "This is a simplified version of D.2 where we want to see what predicates directly relate SSRIs to cardiovascular disease.\n",
    "\n",
    "In particular, we'd expect to see some of the clinical KP data here."
   ]
  },
  {
   "cell_type": "code",
   "execution_count": null,
   "id": "f7798414-ba9b-4839-b085-b9590139db62",
   "metadata": {},
   "outputs": [],
   "source": [
    "query_d3 = open_query('D.3_ssri-heart-disease-one-hop.json')\n",
    "print_query(query_d3)"
   ]
  },
  {
   "cell_type": "markdown",
   "id": "8b6e5519-ce25-47ce-9c39-7420ecf6968c",
   "metadata": {},
   "source": [
    "This query might be represented as:  \n",
    "\n",
    "**(An approved SSRI) - ??? - (Some subclasses of heart disease)**\n",
    "\n",
    "Where we hope to discover which predicates relate these two defined entities."
   ]
  },
  {
   "cell_type": "code",
   "execution_count": null,
   "id": "ec7458f3-f42b-489c-806f-4343b5882d78",
   "metadata": {},
   "outputs": [],
   "source": [
    "# Submit to the ARS\n",
    "ars_pk_for_query_d3 = submit_to_ars(query_d3)"
   ]
  },
  {
   "cell_type": "code",
   "execution_count": null,
   "id": "7929fc5b-6826-47cc-802f-2c5e758e08a7",
   "metadata": {},
   "outputs": [],
   "source": [
    "# A cached PK if necessary:\n",
    "ars_pk_for_query_d3 = '883013f5-4f35-4374-9c70-6fe0e9c3e760'"
   ]
  },
  {
   "cell_type": "code",
   "execution_count": null,
   "id": "fcc5c186-e91a-4ca8-ab3d-a413694a5ddc",
   "metadata": {
    "tags": []
   },
   "outputs": [],
   "source": [
    "query_d3_ars_results = get_ars_results(ars_pk_for_query_d3)"
   ]
  },
  {
   "cell_type": "markdown",
   "id": "9692b0db-895c-4272-a697-98de8ec59013",
   "metadata": {},
   "source": [
    "---"
   ]
  },
  {
   "cell_type": "markdown",
   "id": "57bf2fcc-9cb7-45c1-81ac-de6d9e9109be",
   "metadata": {
    "jp-MarkdownHeadingCollapsed": true,
    "tags": []
   },
   "source": [
    "Instead of looking at the nodes here, we'll call some functions to inspect the edges. There is no ground truth and the set of unique predicates should be small enough to inspect visually instead of parsing the results looking for specific edge types. \n",
    "\n",
    "First, we'll define the edge of interest to us, then we'll inspect the responses."
   ]
  },
  {
   "cell_type": "code",
   "execution_count": null,
   "id": "e428093f-fa9d-4e10-872f-b55ecdf7de81",
   "metadata": {},
   "outputs": [],
   "source": [
    "query_d3_edge_of_interest = 'e00'"
   ]
  },
  {
   "cell_type": "code",
   "execution_count": null,
   "id": "eff03555-a419-45c4-8f1f-5dbfdae75c3e",
   "metadata": {},
   "outputs": [],
   "source": [
    "edge_results = get_predicates_from_agent_responses(query_d3_ars_results)\n",
    "print_edge_results(edge_results, query_d3_edge_of_interest)"
   ]
  },
  {
   "cell_type": "markdown",
   "id": "c5ce9d70-691a-40df-8f88-d71139a5a395",
   "metadata": {},
   "source": [
    "We don't have many details shown here, so it's instructive to look at the ARAX interface.\n",
    "\n",
    "**TODO**: Perhaps we can sort the predicates by their average score or something."
   ]
  },
  {
   "cell_type": "markdown",
   "id": "2f6614ac-edb9-4769-9128-f3cef56abdf7",
   "metadata": {},
   "source": [
    "---"
   ]
  },
  {
   "cell_type": "markdown",
   "id": "9d71951c-db8c-4090-a373-d6f285dcee96",
   "metadata": {},
   "source": [
    "### D.4. Why are serum kynurenine and tryptophan in COVID-19 patients anti-correlated?\n",
    "\n",
    "**PURPOSE:** An anti-correlation in the blood levels of two metabolites\n",
    "of the same pathway could indicate that one is the substrate (upstream)\n",
    "and the other is the product (downstream) and that in the condition\n",
    "(patient cohort) in which the anti-correlation has been observed the\n",
    "conversion of the substrate to product is consistently accelerated. Such\n",
    "a constellation has been observed for the metabolites Tryptophan and\n",
    "Kynurenine. We assume here that the user does not know that these two\n",
    "metabolites form a substrate-product pair of a conversion reaction.\n",
    "Biochemical reactions have been more of a challenge in data modeling\n",
    "than regulatory interactions and therefore, this query tests the ability\n",
    "of the Translator to retrieve reactions using the upstream and\n",
    "downstream metabolites as query terms. Moreover, enzymatic reactions\n",
    "typically use hypergraph to represent how an enzyme affects an edge not\n",
    "a node. Hypergraphs however are not compatible with most biomedical\n",
    "knowledge graphs, including those used in the Translator. Some KP model\n",
    "the reaction simply as an edge others as an additional node. Can the\n",
    "query be robust to such variation in graph structure of KPs that encode\n",
    "the same content?\n",
    "\n",
    "**BIOLOGY:** The conversion of Tryptophan to Kynurenine is the reaction\n",
    "that we look for, and it is catalyzed by the enzyme indolamine\n",
    "dioxygenase (IDO) which is upregulated by IFN-g in COVID-19 patients.\n",
    "\n",
    "![D.4](images/D.4_tryptophan_kyurenine.png)\n",
    "\n",
    "*blue = query input, red = unknown, to be returned*\n",
    "\n",
    "**ANTICIPATED RETURN:** The underlying biology is straightforward, the\n",
    "ground truth is clear and in textbooks: the biochemical conversion of\n",
    "'tryptophan' to 'kynurenine'. It is expected that either the reaction\n",
    "(e.g. implemented by some KPs as a node) is retrieved and connected to\n",
    "the substrate and product (which are the input terms), or the enzyme\n",
    "that catalyzes said reaction is retrieved. An optional output for future\n",
    "testing of \"overlays\" or local query graph expansion, would be to also\n",
    "retrieve 'IFN-ɣ' as inducer of the 'IDO' gene – an event that links its\n",
    "elevation to 'COVID19' which causes a rise of serum IFN-ɣ. This would\n",
    "provide a biologically meaningful answer to the original question\n",
    "triggered by the observation."
   ]
  },
  {
   "cell_type": "code",
   "execution_count": null,
   "id": "6553000b-10e6-45ed-8121-ba3e33018faf",
   "metadata": {
    "tags": []
   },
   "outputs": [],
   "source": [
    "query_d4 = open_query('D.4_tryptophan-kynurenine.json')\n",
    "print_query(query_d4)"
   ]
  },
  {
   "cell_type": "markdown",
   "id": "38dafd03-511d-4fc7-a3f4-51c905cc5a55",
   "metadata": {},
   "source": [
    "This query might be represented as follows:  \n",
    "<pre>\n",
    "    Tryptophan\n",
    "        | \n",
    "   is related to\n",
    "        |\n",
    "    (Protein)\n",
    "        |\n",
    "   is related to\n",
    "        |\n",
    "(MolecularActivity)\n",
    "        |\n",
    "   is related to\n",
    "        |\n",
    "(MolecularActivity)\n",
    "        |\n",
    "   is related to\n",
    "        |\n",
    "    Kynurenine\n",
    "</pre>"
   ]
  },
  {
   "cell_type": "code",
   "execution_count": null,
   "id": "b896127e-88c2-4d02-8008-fe6462772dad",
   "metadata": {},
   "outputs": [],
   "source": [
    "ars_pk_for_query_d4 = submit_to_ars(query_d4)"
   ]
  },
  {
   "cell_type": "code",
   "execution_count": null,
   "id": "53e05f82-28dd-4f58-bbb5-6d4f265b9196",
   "metadata": {},
   "outputs": [],
   "source": [
    "# A cached PK, if necessary\n",
    "ars_pk_for_query_d4 = 'f87aa74f-921e-449e-af56-11e089a6b9da'"
   ]
  },
  {
   "cell_type": "code",
   "execution_count": null,
   "id": "19af8cd1-b406-4202-b145-cb58b504b6ed",
   "metadata": {},
   "outputs": [],
   "source": [
    "# if finished, start pulling the results here\n",
    "query_d4_ars_results = get_ars_results(ars_pk_for_query_d4)"
   ]
  },
  {
   "cell_type": "markdown",
   "id": "7a7411dd-1ab1-4e02-9140-166068d7897c",
   "metadata": {},
   "source": [
    "---"
   ]
  },
  {
   "cell_type": "markdown",
   "id": "70aa95d8-09fe-402f-acbe-b2765b21ee48",
   "metadata": {},
   "source": [
    "This one is a bit more challenging due to the nature of pathway and reaction modeling\n",
    "\n",
    "We will look at both of the Molecular Activity nodes"
   ]
  },
  {
   "cell_type": "code",
   "execution_count": null,
   "id": "abaf446a-856e-4b6e-98a4-f091eb78215e",
   "metadata": {},
   "outputs": [],
   "source": [
    "# set the query responses of interest\n",
    "query_d4_node_of_interest_n02 = 'n02'\n",
    "query_d4_node_of_interest_n03 = 'n03'\n",
    "\n",
    "d4_expected_curies = [\n",
    "    'REACT:R-HSA-888614',  # IDO\n",
    "    'KEGG:1.13.11.52'  # IDO\n",
    "]\n",
    "\n",
    "expected_d4_results = {\n",
    "    query_d4_node_of_interest_n02: d4_expected_curies,\n",
    "    query_d4_node_of_interest_n03: d4_expected_curies\n",
    "}"
   ]
  },
  {
   "cell_type": "code",
   "execution_count": null,
   "id": "a424287c-fa9d-4944-b4dd-a0750a541776",
   "metadata": {},
   "outputs": [],
   "source": [
    "# expand the set of possible answers with synonyms\n",
    "expanded_expected_d4_results = expand_expected_results(expected_d4_results)"
   ]
  },
  {
   "cell_type": "code",
   "execution_count": null,
   "id": "a3653550-8f6b-4eb9-8775-9abc0772788b",
   "metadata": {
    "tags": []
   },
   "outputs": [],
   "source": [
    "# search the returned results for those expected\n",
    "agent_results_d4 = find_expected_results(\n",
    "    query_d4_ars_results,\n",
    "    expanded_expected_d4_results,\n",
    ")"
   ]
  },
  {
   "cell_type": "markdown",
   "id": "119fb891-ffe0-4a9c-8855-2d426ccc4e9f",
   "metadata": {},
   "source": [
    "---"
   ]
  },
  {
   "cell_type": "code",
   "execution_count": null,
   "id": "22ce7a3a-60a1-4f1c-9032-29a2acf01a84",
   "metadata": {},
   "outputs": [],
   "source": [
    "# unify and view the results, first for n02\n",
    "unified_results_d4_n02 = unify_results(agent_results_d4, query_d4_node_of_interest_n02)\n",
    "print_unified_results(unified_results_d4_n02)"
   ]
  },
  {
   "cell_type": "code",
   "execution_count": null,
   "id": "cd81bcd9-1d5c-4119-8526-716a78a233f9",
   "metadata": {},
   "outputs": [],
   "source": [
    "# unify and view the results, now for n03\n",
    "unified_results_d4_n03 = unify_results(agent_results_d4, query_d4_node_of_interest_n03)\n",
    "print_unified_results(unified_results_d4_n03)"
   ]
  },
  {
   "cell_type": "markdown",
   "id": "0ba4368a-5246-4699-8e97-ca81821efd13",
   "metadata": {},
   "source": [
    "---"
   ]
  },
  {
   "cell_type": "markdown",
   "id": "0f428649-cf15-4138-9ec7-a6aa98b99502",
   "metadata": {},
   "source": [
    "### D.6 A patient has very high ferritin levels and a biotech contact says that metformin may lower ferritin. Can we determine why?\n",
    "\n",
    "**PURPOSE:** This use case stems from a real patient case. A routine\n",
    "blood work of a cancer patient revealed extreme high serum ferritin\n",
    "levels. This finding was not explained since iron metabolism parameters\n",
    "appeared normal. Hyperferritinemia is a condition known to be associated\n",
    "with systemic inflammation. However, it is less known but well\n",
    "documented that ferritin inhibits T-cell function, and the patient was\n",
    "about to obtain therapeutic T-cell infusion as immunotherapy. Therefore,\n",
    "clinicians looked into possibilities to lower ferritin levels. A\n",
    "pharmaceutical company helped by searching in its vast internal database\n",
    "of drug (side) effects on a variety of clinical and laboratory\n",
    "parameters ever observed in drug trials. The return suggested that\n",
    "metformin, a commonly used drug for Type 2 diabetes, can lower ferritin.\n",
    "We are interested in possible mechanisms.\n",
    "\n",
    "The challenge here is formidable: we have not any indication about the\n",
    "nature of the mechanism, i.e. we do not know how many hops the\n",
    "connecting mechanistic path will contain nor the type of nodes in it.\n",
    "The mechanism may be a multi-step molecular cascade. Multiple pathways\n",
    "exist in the literature.\n",
    "\n",
    "Since ferritin is not actually a protein, but a protein complex, this\n",
    "query also tests the ability of the Translator to resolve a protein\n",
    "complex, which are often clinical parameters, into the protein names of\n",
    "its subunits that are what is listed in the protein databases. \n",
    "\n",
    "**BIOLOGY:**\n",
    "\n",
    "From literature research conducted in the traditional manner of human\n",
    "knowledge synthesis, we arrive at the following hypothesis for a\n",
    "possible explanation for why metformin might decrease ferritin protein\n",
    "levels:\n",
    "\n",
    "![D.6](images/D.6_metformin-ferritin.png)\n",
    "\n",
    "*blue = query input, red = unknown, to be returned*\n",
    "\n",
    "**ANTICIPATED RETURN:** Given the complex answer, this query will\n",
    "heavily rely on the reverse engineered query-graph (see introduction),\n",
    "and may have to be broken down into individual queries for the purposes\n",
    "of testing the content availability within the Translator. (Hence, this\n",
    "query will become more a lookup-type query, as in Workflow A, than\n",
    "knowledge generation). Most likely mechanistic steps involve\n",
    "protein-protein interactions and gene regulation, extracted from the\n",
    "literature. The key elements here are the 'mTor' pathway, which is known\n",
    "to be suppressed by 'metformin' via its target the 'AMPK' protein. \n",
    "A less well-known connection is the regulation of the two 'ferritin'\n",
    "subunit genes, 'FTH1' an 'FTL' by the mTor complex. Thus, this query\n",
    "also involves the resolving of two protein complexes into its subunits\n",
    "(or the gene that encodes them). "
   ]
  },
  {
   "cell_type": "code",
   "execution_count": null,
   "id": "1597a29f-c313-4ada-b771-f6645e244251",
   "metadata": {
    "tags": []
   },
   "outputs": [],
   "source": [
    "query_d6 = open_query('D.6_metformin-ferritin.json')\n",
    "print_query(query_d6)"
   ]
  },
  {
   "cell_type": "markdown",
   "id": "edef21ad-366f-4a71-afb9-5240821b3fd9",
   "metadata": {},
   "source": [
    "This query might be represented as follows:  \n",
    "<pre>\n",
    "    Metformin\n",
    "        | \n",
    "   is related to\n",
    "        |\n",
    "    (Protein)\n",
    "        |\n",
    "   is related to\n",
    "        |\n",
    "    (Protein)\n",
    "        |\n",
    "   is related to\n",
    "        |\n",
    "Ferritin (subunits)\n",
    "</pre>"
   ]
  },
  {
   "cell_type": "markdown",
   "id": "a54a2cd4-a035-44a7-bf93-0f8de960d3d1",
   "metadata": {},
   "source": [
    "We'll also submit this query to the dev ARS, which supports asynchronous queries.\n",
    "\n",
    "We need to give this query some extra time, because the fully unspecified Protein-Protein relationship yields many responses."
   ]
  },
  {
   "cell_type": "code",
   "execution_count": null,
   "id": "becce048-bf9c-4764-a08b-9f5adb93d415",
   "metadata": {},
   "outputs": [],
   "source": [
    "ars_pk_for_query_d6 = submit_to_ars(query_d6)\n",
    "async_ars_pk_for_query_d6 = submit_to_ars(query_d6, ars_url=ARS_URL_DEV)"
   ]
  },
  {
   "cell_type": "code",
   "execution_count": null,
   "id": "76201d21-f5ca-41c4-beaa-59d69d1f46a8",
   "metadata": {},
   "outputs": [],
   "source": [
    "# A cached PK, almost certainly necessary\n",
    "ars_pk_for_query_d6 = 'e9549e6b-035d-4476-bfc5-9eeede53ad41'\n",
    "async_ars_pk_for_query_d6 = 'c197d1a6-5328-4e14-99e2-e338c8a4a548'"
   ]
  },
  {
   "cell_type": "code",
   "execution_count": null,
   "id": "9e5699b3-77f0-4dad-a74f-5232d9e30ff7",
   "metadata": {},
   "outputs": [],
   "source": [
    "# if finished, start pulling the results here\n",
    "query_d6_ars_results = get_ars_results(ars_pk_for_query_d6)\n",
    "async_query_d6_ars_results = get_ars_results(async_ars_pk_for_query_d6, ars_url=ARS_URL_DEV)"
   ]
  },
  {
   "cell_type": "markdown",
   "id": "003d74e2-223d-4632-9d2e-042cbd4817a3",
   "metadata": {},
   "source": [
    "---"
   ]
  },
  {
   "cell_type": "markdown",
   "id": "b5d4bd3a-a287-4563-80c3-44d08be3850d",
   "metadata": {},
   "source": [
    "Again, we are looking for multiple identifiers across multiple nodes, so we will set them up here for search"
   ]
  },
  {
   "cell_type": "code",
   "execution_count": null,
   "id": "426484a9-f8ba-49ed-9118-f61bc38921c1",
   "metadata": {},
   "outputs": [],
   "source": [
    "# set the query responses of interest\n",
    "query_d6_node_of_interest_n01 = 'n01'\n",
    "query_d6_node_of_interest_n02 = 'n01'\n",
    "\n",
    "expected_d6_results = {\n",
    "    query_d6_node_of_interest_n01: [\n",
    "        'UniProtKB:P54646',  # AAPK\n",
    "        'UniProtKB:Q9Y478',  # AAKB1\n",
    "        'NCBIGene:5563'  #AMPK gene\n",
    "    ],\n",
    "    query_d6_node_of_interest_n02: [\n",
    "        'UniProtKB:P42345'  # MTOR\n",
    "    ]\n",
    "}"
   ]
  },
  {
   "cell_type": "code",
   "execution_count": null,
   "id": "909450a8-54c5-4d71-a197-61251c45678b",
   "metadata": {},
   "outputs": [],
   "source": [
    "# expand the set of possible answers with synonyms\n",
    "expanded_expected_d6_results = expand_expected_results(expected_d6_results)"
   ]
  },
  {
   "cell_type": "code",
   "execution_count": null,
   "id": "f939223b-21d7-40c4-9f32-b89bddfc5e53",
   "metadata": {
    "tags": []
   },
   "outputs": [],
   "source": [
    "# search the returned results for those expected\n",
    "agent_results_d6 = find_expected_results(\n",
    "    query_d6_ars_results,\n",
    "    expanded_expected_d6_results,\n",
    ")\n",
    "\n",
    "async_agent_results_d6 = find_expected_results(\n",
    "    async_query_d6_ars_results,\n",
    "    expanded_expected_d6_results,\n",
    ")"
   ]
  },
  {
   "cell_type": "markdown",
   "id": "cb1ba9cc-ef74-4427-af4d-fc5b125ecf71",
   "metadata": {},
   "source": [
    "---"
   ]
  },
  {
   "cell_type": "code",
   "execution_count": null,
   "id": "05d7aef6-17c5-4268-ac4f-b7a68f9d2127",
   "metadata": {},
   "outputs": [],
   "source": [
    "# unify and view the results, first for n01\n",
    "unified_results_d6_n01 = unify_results(agent_results_d6, query_d6_node_of_interest_n01)\n",
    "async_unified_results_d6_n01 = unify_results(async_agent_results_d6, query_d6_node_of_interest_n01, async_=True)"
   ]
  },
  {
   "cell_type": "markdown",
   "id": "0b2ae06a-c193-4431-98d0-fc36a770411e",
   "metadata": {},
   "source": [
    "We have to combine the sync and async results into one unified object"
   ]
  },
  {
   "cell_type": "code",
   "execution_count": null,
   "id": "41aaeb82-42a7-45f3-b35f-b79f989a6300",
   "metadata": {},
   "outputs": [],
   "source": [
    "for entity_name, data in async_unified_results_d6_n01.items():\n",
    "    if entity_name in unified_results_d6_n01:\n",
    "        sync_agents = unified_results_d6_n01[entity_name][KEY_FOUND_IN_AGENTS]\n",
    "        async_agents = async_unified_results_d6_n01[entity_name][KEY_FOUND_IN_AGENTS]\n",
    "        unified_results_d6_n01[entity_name][KEY_FOUND_IN_AGENTS] = sync_agents.union(async_agents)\n",
    "    else:\n",
    "        unified_results_d6_n01[entity_name] = data\n",
    "\n",
    "\n",
    "print_unified_results(unified_results_d6_n01)"
   ]
  },
  {
   "cell_type": "markdown",
   "id": "a4d5bd48-3bb5-494a-b368-50dce527915e",
   "metadata": {},
   "source": [
    "Currently, no expected results"
   ]
  },
  {
   "cell_type": "markdown",
   "id": "a313c63f-4454-4d98-b0c8-ea3ed47d5487",
   "metadata": {},
   "source": [
    "---"
   ]
  },
  {
   "cell_type": "markdown",
   "id": "6e86ad5c-29a5-4c5a-b1f4-f75dc28bcf19",
   "metadata": {},
   "source": [
    "Now, let's do the same as above for qnode 'n02'"
   ]
  },
  {
   "cell_type": "code",
   "execution_count": null,
   "id": "214362e2-ff6a-440b-bb0d-4bd589954ca0",
   "metadata": {},
   "outputs": [],
   "source": [
    "# unify and view the results, first for n01\n",
    "unified_results_d6_n02 = unify_results(agent_results_d6, query_d6_node_of_interest_n02)\n",
    "async_unified_results_d6_n02 = unify_results(async_agent_results_d6, query_d6_node_of_interest_n02, async_=True)"
   ]
  },
  {
   "cell_type": "markdown",
   "id": "c31c223c-436d-4ed0-b0a6-f744f5d268a7",
   "metadata": {},
   "source": [
    "We have to combine the sync and async results into one unified object"
   ]
  },
  {
   "cell_type": "code",
   "execution_count": null,
   "id": "1222482b-49d9-4acb-a14d-b1fb5e02fd9c",
   "metadata": {},
   "outputs": [],
   "source": [
    "for entity_name, data in async_unified_results_d6_n02.items():\n",
    "    if entity_name in unified_results_d6_n02:\n",
    "        sync_agents = unified_results_d6_n02[entity_name][KEY_FOUND_IN_AGENTS]\n",
    "        async_agents = async_unified_results_d6_n02[entity_name][KEY_FOUND_IN_AGENTS]\n",
    "        unified_results_d6_n02[entity_name][KEY_FOUND_IN_AGENTS] = sync_agents.union(async_agents)\n",
    "    else:\n",
    "        unified_results_d6_n02[entity_name] = data\n",
    "\n",
    "\n",
    "print_unified_results(unified_results_d6_n02)"
   ]
  },
  {
   "cell_type": "markdown",
   "id": "7fbd7fbf-cd2a-42fc-8e55-048f3c97c073",
   "metadata": {},
   "source": [
    "Currently, no expected results"
   ]
  },
  {
   "cell_type": "code",
   "execution_count": null,
   "id": "57cccde1-a546-437e-bb1f-791b1dfc521d",
   "metadata": {},
   "outputs": [],
   "source": []
  }
 ],
 "metadata": {
  "kernelspec": {
   "display_name": "Python 3 (ipykernel)",
   "language": "python",
   "name": "python3"
  },
  "language_info": {
   "codemirror_mode": {
    "name": "ipython",
    "version": 3
   },
   "file_extension": ".py",
   "mimetype": "text/x-python",
   "name": "python",
   "nbconvert_exporter": "python",
   "pygments_lexer": "ipython3",
   "version": "3.9.6"
  }
 },
 "nbformat": 4,
 "nbformat_minor": 5
}
