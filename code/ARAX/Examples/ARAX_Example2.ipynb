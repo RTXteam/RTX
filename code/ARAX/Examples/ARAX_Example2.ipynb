{
 "cells": [
  {
   "cell_type": "code",
   "execution_count": null,
   "metadata": {},
   "outputs": [],
   "source": [
    "# Import minimal requirements\n",
    "import requests\n",
    "import json\n",
    "import re"
   ]
  },
  {
   "cell_type": "code",
   "execution_count": null,
   "metadata": {
    "pycharm": {
     "is_executing": true
    }
   },
   "outputs": [],
   "source": [
    "# Set the base URL for the ARAX reasoner and its endpoint\n",
    "endpoint_url = 'https://arax.transltr.io/api/arax/v1.4/query'\n",
    "\n",
    "# Create a dict of the request, specifying the list of DSL commands\n",
    "query = {\"message\":{}, \"operations\": { \"actions\": [\n",
    "            \"add_qnode(name=DOID:14330, key=n00)\",\n",
    "            \"add_qnode(categories=biolink:Protein, is_set=true, key=n01)\",\n",
    "            \"add_qnode(categories=biolink:ChemicalEntity, key=n02)\",\n",
    "            \"add_qedge(subject=n00, object=n01, key=e00)\",\n",
    "            \"add_qedge(subject=n01, object=n02, key=e01, predicates=biolink:physically_interacts_with)\",\n",
    "            \"expand(edge_key=[e00,e01], kp=infores:rtx-kg2)\",\n",
    "            \"overlay(action=compute_jaccard, start_node_key=n00, intermediate_node_key=n01, end_node_key=n02, virtual_relation_label=J1)\",\n",
    "            \"filter_kg(action=remove_edges_by_continuous_attribute,edge_attribute=jaccard_index,threshold=0.2,remove_connected_nodes=true,qnode_keys=n02, direction=below)\",\n",
    "            \"resultify(ignore_edge_direction=true)\",\n",
    "            \"filter_results(action=limit_number_of_results,max_results=50,prune_kg=true)\",\n",
    "            \"return(message=true, store=true)\"\n",
    "            ] } }"
   ]
  },
  {
   "cell_type": "code",
   "execution_count": null,
   "metadata": {},
   "outputs": [],
   "source": [
    "# Send the request to RTX and check the status\n",
    "print(f\"Executing query at {endpoint_url}\\nPlease wait...\")\n",
    "response_content = requests.post(endpoint_url, json=query, headers={'accept': 'application/json'})\n",
    "status_code = response_content.status_code\n",
    "if status_code != 200:\n",
    "    print(\"ERROR returned with status \"+str(status_code))\n",
    "    print(response_content.json())\n",
    "else:\n",
    "    print(f\"Response returned with status {status_code}\")"
   ]
  },
  {
   "cell_type": "code",
   "execution_count": null,
   "metadata": {},
   "outputs": [],
   "source": [
    "# Unpack respsonse from JSON and display the information log\n",
    "response_dict = response_content.json()\n",
    "for message in response_dict['logs']:\n",
    "    if message['level'] == \"INFO\":\n",
    "        print(message['level']+\": \"+message['message'])"
   ]
  },
  {
   "cell_type": "code",
   "execution_count": null,
   "metadata": {},
   "outputs": [],
   "source": [
    "# These URLs provide direct access to resulting data and GUI\n",
    "if 'id' in response_dict and response_dict['id'] is not None:\n",
    "    print(f\"Data: {response_dict['id']}\")\n",
    "    match = re.search(r'(\\d+)$', response_dict['id'])\n",
    "    if match:\n",
    "        print(f\"GUI: arax.transltr.io/?m={match.group(1)}\")\n",
    "else:\n",
    "    print(\"No id was returned in response\")"
   ]
  },
  {
   "cell_type": "code",
   "execution_count": null,
   "metadata": {},
   "outputs": [],
   "source": [
    "# Or you can view the entire Translator API response Message\n",
    "print(json.dumps(response_dict, indent=2, sort_keys=True))"
   ]
  },
  {
   "cell_type": "code",
   "execution_count": null,
   "metadata": {},
   "outputs": [],
   "source": []
  }
 ],
 "metadata": {
  "kernelspec": {
   "display_name": "Python 3",
   "language": "python",
   "name": "python3"
  },
  "language_info": {
   "codemirror_mode": {
    "name": "ipython",
    "version": 3
   },
   "file_extension": ".py",
   "mimetype": "text/x-python",
   "name": "python",
   "nbconvert_exporter": "python",
   "pygments_lexer": "ipython3",
   "version": "3.7.6"
  }
 },
 "nbformat": 4,
 "nbformat_minor": 2
}
