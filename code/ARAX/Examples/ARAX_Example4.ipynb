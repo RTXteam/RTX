{
 "cells": [
  {
   "cell_type": "code",
   "execution_count": null,
   "metadata": {},
   "outputs": [],
   "source": [
    "# Import minimal requirements\n",
    "import requests\n",
    "import json\n",
    "import re"
   ]
  },
  {
   "cell_type": "code",
   "execution_count": null,
   "metadata": {},
   "outputs": [],
   "source": [
    "# Fetch an existing Message from ARAX to memory\n",
    "message_id = 1531\n",
    "message_uri = f\"https://arax.rtx.ai/api/rtx/v1/message/{message_id}\"\n",
    "response_content = requests.get(message_uri, headers={'accept': 'application/json'})\n",
    "status_code = response_content.status_code\n",
    "if status_code != 200:\n",
    "    print(\"ERROR returned with status \"+str(status_code))\n",
    "    print(response_content.json())\n",
    "else:\n",
    "    print(f\"Response returned with status {status_code}\")\n",
    "\n",
    "response_dict = response_content.json()\n",
    "if response_dict['id'] is not None:\n",
    "    match = re.search(r'(\\d+)$', response_dict['id'])\n",
    "    if match:\n",
    "        print(f\"GUI: https://arax.rtx.ai/?m={match.group(1)}\")\n",
    "print(json.dumps(response_dict, indent=2, sort_keys=True))"
   ]
  },
  {
   "cell_type": "code",
   "execution_count": null,
   "metadata": {},
   "outputs": [],
   "source": [
    "# Set the base URL for the ARAX reasoner and its endpoint\n",
    "endpoint_url = 'https://arax.rtx.ai/api/rtx/v1/query'\n",
    "\n",
    "# Create a dict of the request, specifying the starting Message and a list of DSL commands\n",
    "query = { \"previous_message_processing_plan\": { \n",
    "            \"previous_messages\": [ response_dict ],\n",
    "            \"processing_actions\": [\n",
    "                \"overlay(action=compute_ngd, virtual_relation_label=NGD, subject_qnode_key=n0, object_qnode_key=n1)\",\n",
    "                \"resultify(ignore_edge_direction=true)\",\n",
    "            ] } }"
   ]
  },
  {
   "cell_type": "code",
   "execution_count": null,
   "metadata": {},
   "outputs": [],
   "source": [
    "# Send the request to RTX and check the status\n",
    "print(f\"Executing query at {endpoint_url}\\nPlease wait...\")\n",
    "response_content = requests.post(endpoint_url, json=query, headers={'accept': 'application/json'})\n",
    "status_code = response_content.status_code\n",
    "if status_code != 200:\n",
    "    print(\"ERROR returned with status \"+str(status_code))\n",
    "    print(response_content.json())\n",
    "else:\n",
    "    print(f\"Response returned with status {status_code}\")"
   ]
  },
  {
   "cell_type": "code",
   "execution_count": null,
   "metadata": {},
   "outputs": [],
   "source": [
    "# Unpack the response content into a dict\n",
    "response_dict2 = response_content.json()\n",
    "print(json.dumps(response_dict2, indent=2, sort_keys=True))"
   ]
  },
  {
   "cell_type": "code",
   "execution_count": null,
   "metadata": {},
   "outputs": [],
   "source": [
    "# These URLs provide direct access to resulting data and GUI\n",
    "print(f\"Data: {response_dict2['id']}\")\n",
    "if response_dict2['id'] is not None:\n",
    "    match = re.search(r'(\\d+)$', response_dict2['id'])\n",
    "    if match:\n",
    "        print(f\"GUI: https://arax.rtx.ai/?m={match.group(1)}\")"
   ]
  },
  {
   "cell_type": "code",
   "execution_count": null,
   "metadata": {},
   "outputs": [],
   "source": [
    "# Set the base URL for the ARAX reasoner and its endpoint\n",
    "endpoint_url = 'https://arax.rtx.ai/api/rtx/v1/query'\n",
    "\n",
    "# Create a dict of the request, specifying the starting Message and a list of DSL commands\n",
    "query = { \"previous_message_processing_plan\": { \n",
    "            \"previous_messages\": [ response_dict2 ],\n",
    "            \"processing_actions\": [\n",
    "                \"filter_results(action=sort_by_edge_attribute, edge_attribute=ngd, direction=ascending, max_results=10)\",\n",
    "             ] } }"
   ]
  },
  {
   "cell_type": "code",
   "execution_count": null,
   "metadata": {},
   "outputs": [],
   "source": [
    "# Send the request to RTX and check the status\n",
    "print(f\"Executing query at {endpoint_url}\\nPlease wait...\")\n",
    "response_content = requests.post(endpoint_url, json=query, headers={'accept': 'application/json'})\n",
    "status_code = response_content.status_code\n",
    "if status_code != 200:\n",
    "    print(\"ERROR returned with status \"+str(status_code))\n",
    "    print(response_content.json())\n",
    "else:\n",
    "    print(f\"Response returned with status {status_code}\")"
   ]
  },
  {
   "cell_type": "code",
   "execution_count": null,
   "metadata": {},
   "outputs": [],
   "source": [
    "# Unpack the response content into a dict\n",
    "response_dict3 = response_content.json()\n",
    "print(json.dumps(response_dict3, indent=2, sort_keys=True))"
   ]
  },
  {
   "cell_type": "code",
   "execution_count": null,
   "metadata": {},
   "outputs": [],
   "source": [
    "# These URLs provide direct access to resulting data and GUI\n",
    "print(f\"Data: {response_dict3['id']}\")\n",
    "if response_dict3['id'] is not None:\n",
    "    match = re.search(r'(\\d+)$', response_dict3['id'])\n",
    "    if match:\n",
    "        print(f\"GUI: https://arax.rtx.ai/?m={match.group(1)}\")"
   ]
  },
  {
   "cell_type": "code",
   "execution_count": null,
   "metadata": {},
   "outputs": [],
   "source": []
  }
 ],
 "metadata": {
  "kernelspec": {
   "display_name": "Python 3",
   "language": "python",
   "name": "python3"
  },
  "language_info": {
   "codemirror_mode": {
    "name": "ipython",
    "version": 3
   },
   "file_extension": ".py",
   "mimetype": "text/x-python",
   "name": "python",
   "nbconvert_exporter": "python",
   "pygments_lexer": "ipython3",
   "version": "3.7.6"
  }
 },
 "nbformat": 4,
 "nbformat_minor": 2
}
