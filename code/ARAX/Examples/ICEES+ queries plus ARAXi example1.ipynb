{
 "cells": [
  {
   "cell_type": "code",
   "execution_count": 10,
   "metadata": {},
   "outputs": [],
   "source": [
    "import requests\n",
    "import json\n",
    "import re"
   ]
  },
  {
   "cell_type": "code",
   "execution_count": 11,
   "metadata": {},
   "outputs": [],
   "source": [
    "# Setting the base URL for the ARAX reasoner and its endpoint\n",
    "endpoint_url = 'https://arax.rtx.ai/api/rtx/v1/query'\n",
    "# Given we have some chemical substances which are linked to asthma exacerbations for a certain cohort of patients, \n",
    "# we want to find what diseases are associated with them\n",
    "# This DSL command extracts the pathways to view which diseases are associated with those chemicals. \n",
    "# We do this by creating a dict of the request, specifying a start previous Message and the list of DSL commands\n",
    "query = {\"previous_message_processing_plan\": {\"processing_actions\": [\n",
    "            \"add_qnode(curie=CHEMBL.COMPOUND:CHEMBL896, type= chemical_substance, id=n0)\",\n",
    "            \"add_qnode(type=protein, id=n1)\",\n",
    "            \"add_qnode(type=disease, id=n2)\",\n",
    "            \"add_qedge(source_id=n0, target_id=n1, id=e0)\",\n",
    "            \"add_qedge(source_id=n1, target_id=n2, id=e1)\",\n",
    "            \"expand()\",\n",
    "            #\"expand(kp=infores:rtx-kg2)\".\n",
    "            \"resultify()\",\n",
    "            \"filter_results(action=limit_number_of_results, max_results=20)\",\n",
    "            \"return(message=true, store=true)\",\n",
    "        ]}}"
   ]
  },
  {
   "cell_type": "code",
   "execution_count": 12,
   "metadata": {},
   "outputs": [
    {
     "name": "stdout",
     "output_type": "stream",
     "text": [
      "Executing query at https://arax.rtx.ai/api/rtx/v1/query\n",
      "Please wait...\n",
      "Response returned with status 200\n"
     ]
    }
   ],
   "source": [
    "# Sending the request to RTX and check the status\n",
    "print(f\"Executing query at {endpoint_url}\\nPlease wait...\")\n",
    "response_content = requests.post(endpoint_url, json=query, headers={'accept': 'application/json'})\n",
    "status_code = response_content.status_code\n",
    "if status_code != 200:\n",
    "    print(\"ERROR returned with status \"+str(status_code))\n",
    "    print(response_content.json())\n",
    "else:\n",
    "    print(f\"Response returned with status {status_code}\")"
   ]
  },
  {
   "cell_type": "code",
   "execution_count": null,
   "metadata": {},
   "outputs": [],
   "source": [
    "# Unpack respsonse from JSON and display the information log\n",
    "response_dict = response_content.json()\n",
    "for message in response_dict['log']:\n",
    "    if message['level'] >= 20:\n",
    "        print(message['prefix']+message['message'])"
   ]
  },
  {
   "cell_type": "code",
   "execution_count": 14,
   "metadata": {},
   "outputs": [
    {
     "name": "stdout",
     "output_type": "stream",
     "text": [
      "Data: https://arax.rtx.ai/api/rtx/v1/message/2199\n",
      "GUI: https://arax.rtx.ai/?m=2199\n"
     ]
    }
   ],
   "source": [
    "# These URLs provide direct access to resulting data and GUI\n",
    "if 'id' in response_dict and response_dict['id'] is not None:\n",
    "    print(f\"Data: {response_dict['id']}\")\n",
    "    match = re.search(r'(\\d+)$', response_dict['id'])\n",
    "    if match:\n",
    "        print(f\"GUI: https://arax.rtx.ai/?m={match.group(1)}\")\n",
    "else:\n",
    "    print(\"No id was returned in response\")"
   ]
  },
  {
   "cell_type": "code",
   "execution_count": null,
   "metadata": {},
   "outputs": [],
   "source": [
    "# Or you can view the entire Translator API response Message\n",
    "print(json.dumps(response_dict, indent=2, sort_keys=True))"
   ]
  },
  {
   "cell_type": "code",
   "execution_count": 16,
   "metadata": {},
   "outputs": [],
   "source": [
    "# Setting the base URL for the ARAX reasoner and its endpoint\n",
    "endpoint_url = 'https://arax.rtx.ai/api/rtx/v1/query'\n",
    "# Given we have some chemical substances which are linked to asthma exacerbations for a certain cohort of patients, we want to \n",
    "# find what diseases are associated with them\n",
    "# This DSL command extracts the pathways to view which phenotypes are associated with those chemicals. \n",
    "# We do this by creating a dict of the request, specifying a start previous Message and the list of DSL commands\n",
    "query = {\"previous_message_processing_plan\": {\"processing_actions\": [\n",
    "            \"add_qnode(curie=CHEMBL.COMPOUND:CHEMBL896, type= chemical_substance, id=n0)\",\n",
    "            \"add_qnode(type=protein, id=n1)\",\n",
    "            \"add_qnode(type=phenotypic_feature, id=n2)\",\n",
    "            \"add_qedge(source_id=n0, target_id=n1, id=e0)\",\n",
    "            \"add_qedge(source_id=n1, target_id=n2, id=e1)\",\n",
    "            \"expand()\",\n",
    "            #\"expand(kp=infores:rtx-kg2)\".\n",
    "            \"resultify()\",\n",
    "            \"filter_results(action=limit_number_of_results, max_results=20)\",\n",
    "            \"return(message=true, store=true)\",\n",
    "        ]}}"
   ]
  },
  {
   "cell_type": "code",
   "execution_count": 17,
   "metadata": {},
   "outputs": [
    {
     "name": "stdout",
     "output_type": "stream",
     "text": [
      "Executing query at https://arax.rtx.ai/api/rtx/v1/query\n",
      "Please wait...\n",
      "Response returned with status 200\n"
     ]
    }
   ],
   "source": [
    "# Sending the request to RTX and check the status\n",
    "print(f\"Executing query at {endpoint_url}\\nPlease wait...\")\n",
    "response_content = requests.post(endpoint_url, json=query, headers={'accept': 'application/json'})\n",
    "status_code = response_content.status_code\n",
    "if status_code != 200:\n",
    "    print(\"ERROR returned with status \"+str(status_code))\n",
    "    print(response_content.json())\n",
    "else:\n",
    "    print(f\"Response returned with status {status_code}\")"
   ]
  },
  {
   "cell_type": "code",
   "execution_count": null,
   "metadata": {},
   "outputs": [],
   "source": [
    "# Unpack respsonse from JSON and display the information log\n",
    "response_dict = response_content.json()\n",
    "for message in response_dict['log']:\n",
    "    if message['level'] >= 20:\n",
    "        print(message['prefix']+message['message'])"
   ]
  },
  {
   "cell_type": "code",
   "execution_count": 19,
   "metadata": {},
   "outputs": [
    {
     "name": "stdout",
     "output_type": "stream",
     "text": [
      "Data: https://arax.rtx.ai/api/rtx/v1/message/2200\n",
      "GUI: https://arax.rtx.ai/?m=2200\n"
     ]
    }
   ],
   "source": [
    "# These URLs provide direct access to resulting data and GUI\n",
    "if 'id' in response_dict and response_dict['id'] is not None:\n",
    "    print(f\"Data: {response_dict['id']}\")\n",
    "    match = re.search(r'(\\d+)$', response_dict['id'])\n",
    "    if match:\n",
    "        print(f\"GUI: https://arax.rtx.ai/?m={match.group(1)}\")\n",
    "else:\n",
    "    print(\"No id was returned in response\")"
   ]
  },
  {
   "cell_type": "code",
   "execution_count": null,
   "metadata": {},
   "outputs": [],
   "source": [
    "# Or you can view the entire Translator API response Message\n",
    "print(json.dumps(response_dict, indent=2, sort_keys=True))"
   ]
  }
 ],
 "metadata": {
  "kernelspec": {
   "display_name": "Python 3",
   "language": "python",
   "name": "python3"
  },
  "language_info": {
   "codemirror_mode": {
    "name": "ipython",
    "version": 3
   },
   "file_extension": ".py",
   "mimetype": "text/x-python",
   "name": "python",
   "nbconvert_exporter": "python",
   "pygments_lexer": "ipython3",
   "version": "3.7.6"
  }
 },
 "nbformat": 4,
 "nbformat_minor": 4
}
